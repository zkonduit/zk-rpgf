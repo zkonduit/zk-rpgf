{
    "cells": [
        {
            "cell_type": "code",
            "execution_count": 28,
            "metadata": {},
            "outputs": [],
            "source": [
                "import pandas as pd\n",
                "import numpy as np\n",
                "\n",
                "\n",
                "from core import constants\n",
                "from core.utils import *\n",
                "\n",
                "log = get_logger()\n",
                "\n",
                "pd.set_option(\"display.float_format\", \"{:.2f}\".format)"
            ]
        },
        {
            "cell_type": "markdown",
            "metadata": {},
            "source": [
                "## RPGF 3 Data Check and Cleanup"
            ]
        },
        {
            "cell_type": "code",
            "execution_count": 29,
            "metadata": {},
            "outputs": [],
            "source": [
                "df = pd.read_csv(\"data/dummy_data_rpgf3.csv\")"
            ]
        },
        {
            "cell_type": "code",
            "execution_count": 30,
            "metadata": {},
            "outputs": [
                {
                    "data": {
                        "text/html": [
                            "<div>\n",
                            "<style scoped>\n",
                            "    .dataframe tbody tr th:only-of-type {\n",
                            "        vertical-align: middle;\n",
                            "    }\n",
                            "\n",
                            "    .dataframe tbody tr th {\n",
                            "        vertical-align: top;\n",
                            "    }\n",
                            "\n",
                            "    .dataframe thead th {\n",
                            "        text-align: right;\n",
                            "    }\n",
                            "</style>\n",
                            "<table border=\"1\" class=\"dataframe\">\n",
                            "  <thead>\n",
                            "    <tr style=\"text-align: right;\">\n",
                            "      <th></th>\n",
                            "      <th>Address</th>\n",
                            "      <th>Has voted</th>\n",
                            "      <th>Has published</th>\n",
                            "      <th>Published at</th>\n",
                            "      <th>Created at</th>\n",
                            "      <th>Updated at</th>\n",
                            "      <th>Projects in ballot</th>\n",
                            "      <th>Votes</th>\n",
                            "    </tr>\n",
                            "  </thead>\n",
                            "  <tbody>\n",
                            "    <tr>\n",
                            "      <th>684</th>\n",
                            "      <td>mKaRKw3knH</td>\n",
                            "      <td>True</td>\n",
                            "      <td>True</td>\n",
                            "      <td>2023-11-16 18:54:05</td>\n",
                            "      <td>2023-09-15 19:39:19</td>\n",
                            "      <td>2023-09-29 04:27:24</td>\n",
                            "      <td>11</td>\n",
                            "      <td>[{'amount': '25655', 'projectId': 'proj165'}, ...</td>\n",
                            "    </tr>\n",
                            "    <tr>\n",
                            "      <th>534</th>\n",
                            "      <td>7bZqKs7d0x</td>\n",
                            "      <td>True</td>\n",
                            "      <td>True</td>\n",
                            "      <td>2023-11-19 14:50:04</td>\n",
                            "      <td>2023-10-22 03:38:09</td>\n",
                            "      <td>2023-11-04 03:20:13</td>\n",
                            "      <td>18</td>\n",
                            "      <td>[{'amount': '242734', 'projectId': 'proj257'},...</td>\n",
                            "    </tr>\n",
                            "    <tr>\n",
                            "      <th>94</th>\n",
                            "      <td>LlpIn8srmR</td>\n",
                            "      <td>False</td>\n",
                            "      <td>False</td>\n",
                            "      <td>NaN</td>\n",
                            "      <td>2023-11-05 14:53:16</td>\n",
                            "      <td>2023-11-18 10:53:31</td>\n",
                            "      <td>0</td>\n",
                            "      <td>[]</td>\n",
                            "    </tr>\n",
                            "    <tr>\n",
                            "      <th>579</th>\n",
                            "      <td>owFaLyeoEc</td>\n",
                            "      <td>True</td>\n",
                            "      <td>True</td>\n",
                            "      <td>2023-11-03 06:51:41</td>\n",
                            "      <td>2023-10-01 21:49:29</td>\n",
                            "      <td>2023-10-14 20:57:48</td>\n",
                            "      <td>11</td>\n",
                            "      <td>[{'amount': '364716', 'projectId': 'proj459'},...</td>\n",
                            "    </tr>\n",
                            "    <tr>\n",
                            "      <th>812</th>\n",
                            "      <td>qijJcifY1T</td>\n",
                            "      <td>False</td>\n",
                            "      <td>False</td>\n",
                            "      <td>NaN</td>\n",
                            "      <td>2023-10-25 13:39:04</td>\n",
                            "      <td>2023-11-25 01:00:53</td>\n",
                            "      <td>0</td>\n",
                            "      <td>[]</td>\n",
                            "    </tr>\n",
                            "    <tr>\n",
                            "      <th>181</th>\n",
                            "      <td>9PObQzxHDj</td>\n",
                            "      <td>True</td>\n",
                            "      <td>True</td>\n",
                            "      <td>2023-11-30 23:46:25</td>\n",
                            "      <td>2023-11-28 01:13:00</td>\n",
                            "      <td>2023-11-30 20:04:42</td>\n",
                            "      <td>13</td>\n",
                            "      <td>[{'amount': '746652', 'projectId': 'proj9'}, {...</td>\n",
                            "    </tr>\n",
                            "    <tr>\n",
                            "      <th>623</th>\n",
                            "      <td>xjT0UXNX8a</td>\n",
                            "      <td>True</td>\n",
                            "      <td>False</td>\n",
                            "      <td>NaN</td>\n",
                            "      <td>2023-10-02 20:09:53</td>\n",
                            "      <td>2023-11-12 19:32:41</td>\n",
                            "      <td>0</td>\n",
                            "      <td>[]</td>\n",
                            "    </tr>\n",
                            "    <tr>\n",
                            "      <th>596</th>\n",
                            "      <td>RJKVjrnwws</td>\n",
                            "      <td>False</td>\n",
                            "      <td>False</td>\n",
                            "      <td>NaN</td>\n",
                            "      <td>2023-11-16 10:42:51</td>\n",
                            "      <td>2023-11-27 09:04:38</td>\n",
                            "      <td>0</td>\n",
                            "      <td>[]</td>\n",
                            "    </tr>\n",
                            "    <tr>\n",
                            "      <th>271</th>\n",
                            "      <td>bJu4Xej0vx</td>\n",
                            "      <td>False</td>\n",
                            "      <td>False</td>\n",
                            "      <td>NaN</td>\n",
                            "      <td>2023-10-24 21:39:23</td>\n",
                            "      <td>2023-11-19 22:00:29</td>\n",
                            "      <td>0</td>\n",
                            "      <td>[]</td>\n",
                            "    </tr>\n",
                            "    <tr>\n",
                            "      <th>631</th>\n",
                            "      <td>cyXUA4nlNu</td>\n",
                            "      <td>False</td>\n",
                            "      <td>False</td>\n",
                            "      <td>NaN</td>\n",
                            "      <td>2023-10-26 15:59:25</td>\n",
                            "      <td>2023-11-21 01:03:21</td>\n",
                            "      <td>0</td>\n",
                            "      <td>[]</td>\n",
                            "    </tr>\n",
                            "  </tbody>\n",
                            "</table>\n",
                            "</div>"
                        ],
                        "text/plain": [
                            "        Address  Has voted  Has published         Published at  \\\n",
                            "684  mKaRKw3knH       True           True  2023-11-16 18:54:05   \n",
                            "534  7bZqKs7d0x       True           True  2023-11-19 14:50:04   \n",
                            "94   LlpIn8srmR      False          False                  NaN   \n",
                            "579  owFaLyeoEc       True           True  2023-11-03 06:51:41   \n",
                            "812  qijJcifY1T      False          False                  NaN   \n",
                            "181  9PObQzxHDj       True           True  2023-11-30 23:46:25   \n",
                            "623  xjT0UXNX8a       True          False                  NaN   \n",
                            "596  RJKVjrnwws      False          False                  NaN   \n",
                            "271  bJu4Xej0vx      False          False                  NaN   \n",
                            "631  cyXUA4nlNu      False          False                  NaN   \n",
                            "\n",
                            "              Created at           Updated at  Projects in ballot  \\\n",
                            "684  2023-09-15 19:39:19  2023-09-29 04:27:24                  11   \n",
                            "534  2023-10-22 03:38:09  2023-11-04 03:20:13                  18   \n",
                            "94   2023-11-05 14:53:16  2023-11-18 10:53:31                   0   \n",
                            "579  2023-10-01 21:49:29  2023-10-14 20:57:48                  11   \n",
                            "812  2023-10-25 13:39:04  2023-11-25 01:00:53                   0   \n",
                            "181  2023-11-28 01:13:00  2023-11-30 20:04:42                  13   \n",
                            "623  2023-10-02 20:09:53  2023-11-12 19:32:41                   0   \n",
                            "596  2023-11-16 10:42:51  2023-11-27 09:04:38                   0   \n",
                            "271  2023-10-24 21:39:23  2023-11-19 22:00:29                   0   \n",
                            "631  2023-10-26 15:59:25  2023-11-21 01:03:21                   0   \n",
                            "\n",
                            "                                                 Votes  \n",
                            "684  [{'amount': '25655', 'projectId': 'proj165'}, ...  \n",
                            "534  [{'amount': '242734', 'projectId': 'proj257'},...  \n",
                            "94                                                  []  \n",
                            "579  [{'amount': '364716', 'projectId': 'proj459'},...  \n",
                            "812                                                 []  \n",
                            "181  [{'amount': '746652', 'projectId': 'proj9'}, {...  \n",
                            "623                                                 []  \n",
                            "596                                                 []  \n",
                            "271                                                 []  \n",
                            "631                                                 []  "
                        ]
                    },
                    "metadata": {},
                    "output_type": "display_data"
                }
            ],
            "source": [
                "display(df.sample(10))"
            ]
        },
        {
            "cell_type": "code",
            "execution_count": 31,
            "metadata": {},
            "outputs": [
                {
                    "name": "stderr",
                    "output_type": "stream",
                    "text": [
                        "2024-01-03 18:36:09 INFO | Check - Num Ballots: 1000\n",
                        "2024-01-03 18:36:09 INFO | Check - Num Submissions (Published): 514\n",
                        "2024-01-03 18:36:09 INFO | Check - Address is unique.\n",
                        "2024-01-03 18:36:09 INFO | Check - 243 voters out of 1000 have not voted.\n",
                        "2024-01-03 18:36:09 INFO | Check - 486 voters out of 1000 have not published.\n"
                    ]
                }
            ],
            "source": [
                "log.info(\"Check - Num Ballots: \" + str(df[\"Has published\"].count()))\n",
                "log.info(\"Check - Num Submissions (Published): \" + str(df[\"Has published\"].sum()))\n",
                "\n",
                "# Check if voter_address is unique\n",
                "if df[\"Address\"].nunique() == df.shape[0]:\n",
                "    log.info(\"Check - Address is unique.\")\n",
                "else:\n",
                "    diff = df.shape[0] - df[\"Address\"].nunique()\n",
                "    log.info(f\"Check - Address is not unique. There are {diff} duplicates.\")\n",
                "\n",
                "# Check if all voters have voted\n",
                "if df[df[\"Has voted\"] == False].shape[0] > 0:\n",
                "    not_voted = df[df[\"Has voted\"] == False].shape[0]\n",
                "    total = df[\"Address\"].nunique()\n",
                "    log.info(f\"Check - {not_voted} voters out of {total} have not voted.\")\n",
                "else:\n",
                "    log.info(\"Check - All voters have voted.\")\n",
                "\n",
                "# Check if all voters have published\n",
                "if df[df[\"Has published\"] == False].shape[0] > 0:\n",
                "    not_voted = df[df[\"Has published\"] == False].shape[0]\n",
                "    total = df[\"Address\"].nunique()\n",
                "    log.info(f\"Check - {not_voted} voters out of {total} have not published.\")\n",
                "else:\n",
                "    log.info(\"Check - All voters have published.\")"
            ]
        },
        {
            "cell_type": "code",
            "execution_count": 32,
            "metadata": {},
            "outputs": [],
            "source": [
                "# Apply the function and concatenate results\n",
                "expanded_list = [\n",
                "    expand_json(safe_json_loads(row), idx) for idx, row in df[\"Votes\"].items()\n",
                "]\n",
                "expanded_df = pd.concat(expanded_list, ignore_index=True)\n",
                "\n",
                "result_df = expanded_df.set_index(\"original_index\").join(df.set_index(df.index))"
            ]
        },
        {
            "cell_type": "code",
            "execution_count": 33,
            "metadata": {},
            "outputs": [
                {
                    "name": "stdout",
                    "output_type": "stream",
                    "text": [
                        "Num Projects Voted : 18\n"
                    ]
                },
                {
                    "data": {
                        "text/html": [
                            "<div>\n",
                            "<style scoped>\n",
                            "    .dataframe tbody tr th:only-of-type {\n",
                            "        vertical-align: middle;\n",
                            "    }\n",
                            "\n",
                            "    .dataframe tbody tr th {\n",
                            "        vertical-align: top;\n",
                            "    }\n",
                            "\n",
                            "    .dataframe thead th {\n",
                            "        text-align: right;\n",
                            "    }\n",
                            "</style>\n",
                            "<table border=\"1\" class=\"dataframe\">\n",
                            "  <thead>\n",
                            "    <tr style=\"text-align: right;\">\n",
                            "      <th></th>\n",
                            "      <th>amount</th>\n",
                            "      <th>projectId</th>\n",
                            "      <th>Address</th>\n",
                            "      <th>Has voted</th>\n",
                            "      <th>Has published</th>\n",
                            "      <th>Published at</th>\n",
                            "      <th>Created at</th>\n",
                            "      <th>Updated at</th>\n",
                            "      <th>Projects in ballot</th>\n",
                            "      <th>Votes</th>\n",
                            "    </tr>\n",
                            "  </thead>\n",
                            "  <tbody>\n",
                            "    <tr>\n",
                            "      <th>830</th>\n",
                            "      <td>703749</td>\n",
                            "      <td>proj117</td>\n",
                            "      <td>zgdSu8Yr87</td>\n",
                            "      <td>True</td>\n",
                            "      <td>True</td>\n",
                            "      <td>2023-11-02 18:18:29</td>\n",
                            "      <td>2023-09-21 02:51:22</td>\n",
                            "      <td>2023-09-23 16:56:39</td>\n",
                            "      <td>18</td>\n",
                            "      <td>[{'amount': '703749', 'projectId': 'proj117'},...</td>\n",
                            "    </tr>\n",
                            "    <tr>\n",
                            "      <th>830</th>\n",
                            "      <td>385034</td>\n",
                            "      <td>proj51</td>\n",
                            "      <td>zgdSu8Yr87</td>\n",
                            "      <td>True</td>\n",
                            "      <td>True</td>\n",
                            "      <td>2023-11-02 18:18:29</td>\n",
                            "      <td>2023-09-21 02:51:22</td>\n",
                            "      <td>2023-09-23 16:56:39</td>\n",
                            "      <td>18</td>\n",
                            "      <td>[{'amount': '703749', 'projectId': 'proj117'},...</td>\n",
                            "    </tr>\n",
                            "    <tr>\n",
                            "      <th>830</th>\n",
                            "      <td>470511</td>\n",
                            "      <td>proj230</td>\n",
                            "      <td>zgdSu8Yr87</td>\n",
                            "      <td>True</td>\n",
                            "      <td>True</td>\n",
                            "      <td>2023-11-02 18:18:29</td>\n",
                            "      <td>2023-09-21 02:51:22</td>\n",
                            "      <td>2023-09-23 16:56:39</td>\n",
                            "      <td>18</td>\n",
                            "      <td>[{'amount': '703749', 'projectId': 'proj117'},...</td>\n",
                            "    </tr>\n",
                            "    <tr>\n",
                            "      <th>830</th>\n",
                            "      <td>113619</td>\n",
                            "      <td>proj204</td>\n",
                            "      <td>zgdSu8Yr87</td>\n",
                            "      <td>True</td>\n",
                            "      <td>True</td>\n",
                            "      <td>2023-11-02 18:18:29</td>\n",
                            "      <td>2023-09-21 02:51:22</td>\n",
                            "      <td>2023-09-23 16:56:39</td>\n",
                            "      <td>18</td>\n",
                            "      <td>[{'amount': '703749', 'projectId': 'proj117'},...</td>\n",
                            "    </tr>\n",
                            "    <tr>\n",
                            "      <th>830</th>\n",
                            "      <td>156327</td>\n",
                            "      <td>proj141</td>\n",
                            "      <td>zgdSu8Yr87</td>\n",
                            "      <td>True</td>\n",
                            "      <td>True</td>\n",
                            "      <td>2023-11-02 18:18:29</td>\n",
                            "      <td>2023-09-21 02:51:22</td>\n",
                            "      <td>2023-09-23 16:56:39</td>\n",
                            "      <td>18</td>\n",
                            "      <td>[{'amount': '703749', 'projectId': 'proj117'},...</td>\n",
                            "    </tr>\n",
                            "    <tr>\n",
                            "      <th>830</th>\n",
                            "      <td>622540</td>\n",
                            "      <td>proj390</td>\n",
                            "      <td>zgdSu8Yr87</td>\n",
                            "      <td>True</td>\n",
                            "      <td>True</td>\n",
                            "      <td>2023-11-02 18:18:29</td>\n",
                            "      <td>2023-09-21 02:51:22</td>\n",
                            "      <td>2023-09-23 16:56:39</td>\n",
                            "      <td>18</td>\n",
                            "      <td>[{'amount': '703749', 'projectId': 'proj117'},...</td>\n",
                            "    </tr>\n",
                            "    <tr>\n",
                            "      <th>830</th>\n",
                            "      <td>32962</td>\n",
                            "      <td>proj482</td>\n",
                            "      <td>zgdSu8Yr87</td>\n",
                            "      <td>True</td>\n",
                            "      <td>True</td>\n",
                            "      <td>2023-11-02 18:18:29</td>\n",
                            "      <td>2023-09-21 02:51:22</td>\n",
                            "      <td>2023-09-23 16:56:39</td>\n",
                            "      <td>18</td>\n",
                            "      <td>[{'amount': '703749', 'projectId': 'proj117'},...</td>\n",
                            "    </tr>\n",
                            "    <tr>\n",
                            "      <th>830</th>\n",
                            "      <td>911617</td>\n",
                            "      <td>proj46</td>\n",
                            "      <td>zgdSu8Yr87</td>\n",
                            "      <td>True</td>\n",
                            "      <td>True</td>\n",
                            "      <td>2023-11-02 18:18:29</td>\n",
                            "      <td>2023-09-21 02:51:22</td>\n",
                            "      <td>2023-09-23 16:56:39</td>\n",
                            "      <td>18</td>\n",
                            "      <td>[{'amount': '703749', 'projectId': 'proj117'},...</td>\n",
                            "    </tr>\n",
                            "    <tr>\n",
                            "      <th>830</th>\n",
                            "      <td>755757</td>\n",
                            "      <td>proj250</td>\n",
                            "      <td>zgdSu8Yr87</td>\n",
                            "      <td>True</td>\n",
                            "      <td>True</td>\n",
                            "      <td>2023-11-02 18:18:29</td>\n",
                            "      <td>2023-09-21 02:51:22</td>\n",
                            "      <td>2023-09-23 16:56:39</td>\n",
                            "      <td>18</td>\n",
                            "      <td>[{'amount': '703749', 'projectId': 'proj117'},...</td>\n",
                            "    </tr>\n",
                            "    <tr>\n",
                            "      <th>830</th>\n",
                            "      <td>114436</td>\n",
                            "      <td>proj82</td>\n",
                            "      <td>zgdSu8Yr87</td>\n",
                            "      <td>True</td>\n",
                            "      <td>True</td>\n",
                            "      <td>2023-11-02 18:18:29</td>\n",
                            "      <td>2023-09-21 02:51:22</td>\n",
                            "      <td>2023-09-23 16:56:39</td>\n",
                            "      <td>18</td>\n",
                            "      <td>[{'amount': '703749', 'projectId': 'proj117'},...</td>\n",
                            "    </tr>\n",
                            "  </tbody>\n",
                            "</table>\n",
                            "</div>"
                        ],
                        "text/plain": [
                            "     amount projectId     Address  Has voted  Has published  \\\n",
                            "830  703749   proj117  zgdSu8Yr87       True           True   \n",
                            "830  385034    proj51  zgdSu8Yr87       True           True   \n",
                            "830  470511   proj230  zgdSu8Yr87       True           True   \n",
                            "830  113619   proj204  zgdSu8Yr87       True           True   \n",
                            "830  156327   proj141  zgdSu8Yr87       True           True   \n",
                            "830  622540   proj390  zgdSu8Yr87       True           True   \n",
                            "830   32962   proj482  zgdSu8Yr87       True           True   \n",
                            "830  911617    proj46  zgdSu8Yr87       True           True   \n",
                            "830  755757   proj250  zgdSu8Yr87       True           True   \n",
                            "830  114436    proj82  zgdSu8Yr87       True           True   \n",
                            "\n",
                            "            Published at           Created at           Updated at  \\\n",
                            "830  2023-11-02 18:18:29  2023-09-21 02:51:22  2023-09-23 16:56:39   \n",
                            "830  2023-11-02 18:18:29  2023-09-21 02:51:22  2023-09-23 16:56:39   \n",
                            "830  2023-11-02 18:18:29  2023-09-21 02:51:22  2023-09-23 16:56:39   \n",
                            "830  2023-11-02 18:18:29  2023-09-21 02:51:22  2023-09-23 16:56:39   \n",
                            "830  2023-11-02 18:18:29  2023-09-21 02:51:22  2023-09-23 16:56:39   \n",
                            "830  2023-11-02 18:18:29  2023-09-21 02:51:22  2023-09-23 16:56:39   \n",
                            "830  2023-11-02 18:18:29  2023-09-21 02:51:22  2023-09-23 16:56:39   \n",
                            "830  2023-11-02 18:18:29  2023-09-21 02:51:22  2023-09-23 16:56:39   \n",
                            "830  2023-11-02 18:18:29  2023-09-21 02:51:22  2023-09-23 16:56:39   \n",
                            "830  2023-11-02 18:18:29  2023-09-21 02:51:22  2023-09-23 16:56:39   \n",
                            "\n",
                            "     Projects in ballot                                              Votes  \n",
                            "830                  18  [{'amount': '703749', 'projectId': 'proj117'},...  \n",
                            "830                  18  [{'amount': '703749', 'projectId': 'proj117'},...  \n",
                            "830                  18  [{'amount': '703749', 'projectId': 'proj117'},...  \n",
                            "830                  18  [{'amount': '703749', 'projectId': 'proj117'},...  \n",
                            "830                  18  [{'amount': '703749', 'projectId': 'proj117'},...  \n",
                            "830                  18  [{'amount': '703749', 'projectId': 'proj117'},...  \n",
                            "830                  18  [{'amount': '703749', 'projectId': 'proj117'},...  \n",
                            "830                  18  [{'amount': '703749', 'projectId': 'proj117'},...  \n",
                            "830                  18  [{'amount': '703749', 'projectId': 'proj117'},...  \n",
                            "830                  18  [{'amount': '703749', 'projectId': 'proj117'},...  "
                        ]
                    },
                    "metadata": {},
                    "output_type": "display_data"
                }
            ],
            "source": [
                "testing_address = \"zgdSu8Yr87\"\n",
                "print_df = result_df[result_df[\"Address\"] == testing_address]\n",
                "print(\"Num Projects Voted : \" + str(print_df[\"projectId\"].count()))\n",
                "display(print_df.head(10))"
            ]
        },
        {
            "cell_type": "code",
            "execution_count": 34,
            "metadata": {},
            "outputs": [],
            "source": [
                "columns = [col for col in result_df.columns if col not in [\"amount\", \"projectId\"]]\n",
                "columns += [\"amount\", \"projectId\"]  # Add the columns to the end of the list\n",
                "result_df = result_df[columns]\n",
                "\n",
                "# Update df columns names\n",
                "result_df.columns = [\n",
                "    \"voter_address\",\n",
                "    \"has_voted\",\n",
                "    \"has_published\",\n",
                "    \"published_at\",\n",
                "    \"created_at\",\n",
                "    \"updated_at\",\n",
                "    \"projects_in_ballot\",\n",
                "    \"votes\",\n",
                "    \"amount\",\n",
                "    \"project_id\",\n",
                "]\n",
                "\n",
                "result_df.drop(columns=\"votes\", inplace=True)\n",
                "\n",
                "result_df[\"amount\"] = pd.to_numeric(result_df[\"amount\"])"
            ]
        },
        {
            "cell_type": "code",
            "execution_count": 35,
            "metadata": {},
            "outputs": [
                {
                    "data": {
                        "text/html": [
                            "<div>\n",
                            "<style scoped>\n",
                            "    .dataframe tbody tr th:only-of-type {\n",
                            "        vertical-align: middle;\n",
                            "    }\n",
                            "\n",
                            "    .dataframe tbody tr th {\n",
                            "        vertical-align: top;\n",
                            "    }\n",
                            "\n",
                            "    .dataframe thead th {\n",
                            "        text-align: right;\n",
                            "    }\n",
                            "</style>\n",
                            "<table border=\"1\" class=\"dataframe\">\n",
                            "  <thead>\n",
                            "    <tr style=\"text-align: right;\">\n",
                            "      <th></th>\n",
                            "      <th>voter_address</th>\n",
                            "      <th>has_voted</th>\n",
                            "      <th>has_published</th>\n",
                            "      <th>published_at</th>\n",
                            "      <th>created_at</th>\n",
                            "      <th>updated_at</th>\n",
                            "      <th>projects_in_ballot</th>\n",
                            "      <th>amount</th>\n",
                            "      <th>project_id</th>\n",
                            "    </tr>\n",
                            "  </thead>\n",
                            "  <tbody>\n",
                            "    <tr>\n",
                            "      <th>830</th>\n",
                            "      <td>zgdSu8Yr87</td>\n",
                            "      <td>True</td>\n",
                            "      <td>True</td>\n",
                            "      <td>2023-11-02 18:18:29</td>\n",
                            "      <td>2023-09-21 02:51:22</td>\n",
                            "      <td>2023-09-23 16:56:39</td>\n",
                            "      <td>18</td>\n",
                            "      <td>703749</td>\n",
                            "      <td>proj117</td>\n",
                            "    </tr>\n",
                            "    <tr>\n",
                            "      <th>830</th>\n",
                            "      <td>zgdSu8Yr87</td>\n",
                            "      <td>True</td>\n",
                            "      <td>True</td>\n",
                            "      <td>2023-11-02 18:18:29</td>\n",
                            "      <td>2023-09-21 02:51:22</td>\n",
                            "      <td>2023-09-23 16:56:39</td>\n",
                            "      <td>18</td>\n",
                            "      <td>385034</td>\n",
                            "      <td>proj51</td>\n",
                            "    </tr>\n",
                            "    <tr>\n",
                            "      <th>830</th>\n",
                            "      <td>zgdSu8Yr87</td>\n",
                            "      <td>True</td>\n",
                            "      <td>True</td>\n",
                            "      <td>2023-11-02 18:18:29</td>\n",
                            "      <td>2023-09-21 02:51:22</td>\n",
                            "      <td>2023-09-23 16:56:39</td>\n",
                            "      <td>18</td>\n",
                            "      <td>470511</td>\n",
                            "      <td>proj230</td>\n",
                            "    </tr>\n",
                            "    <tr>\n",
                            "      <th>830</th>\n",
                            "      <td>zgdSu8Yr87</td>\n",
                            "      <td>True</td>\n",
                            "      <td>True</td>\n",
                            "      <td>2023-11-02 18:18:29</td>\n",
                            "      <td>2023-09-21 02:51:22</td>\n",
                            "      <td>2023-09-23 16:56:39</td>\n",
                            "      <td>18</td>\n",
                            "      <td>113619</td>\n",
                            "      <td>proj204</td>\n",
                            "    </tr>\n",
                            "    <tr>\n",
                            "      <th>830</th>\n",
                            "      <td>zgdSu8Yr87</td>\n",
                            "      <td>True</td>\n",
                            "      <td>True</td>\n",
                            "      <td>2023-11-02 18:18:29</td>\n",
                            "      <td>2023-09-21 02:51:22</td>\n",
                            "      <td>2023-09-23 16:56:39</td>\n",
                            "      <td>18</td>\n",
                            "      <td>156327</td>\n",
                            "      <td>proj141</td>\n",
                            "    </tr>\n",
                            "    <tr>\n",
                            "      <th>830</th>\n",
                            "      <td>zgdSu8Yr87</td>\n",
                            "      <td>True</td>\n",
                            "      <td>True</td>\n",
                            "      <td>2023-11-02 18:18:29</td>\n",
                            "      <td>2023-09-21 02:51:22</td>\n",
                            "      <td>2023-09-23 16:56:39</td>\n",
                            "      <td>18</td>\n",
                            "      <td>622540</td>\n",
                            "      <td>proj390</td>\n",
                            "    </tr>\n",
                            "    <tr>\n",
                            "      <th>830</th>\n",
                            "      <td>zgdSu8Yr87</td>\n",
                            "      <td>True</td>\n",
                            "      <td>True</td>\n",
                            "      <td>2023-11-02 18:18:29</td>\n",
                            "      <td>2023-09-21 02:51:22</td>\n",
                            "      <td>2023-09-23 16:56:39</td>\n",
                            "      <td>18</td>\n",
                            "      <td>32962</td>\n",
                            "      <td>proj482</td>\n",
                            "    </tr>\n",
                            "    <tr>\n",
                            "      <th>830</th>\n",
                            "      <td>zgdSu8Yr87</td>\n",
                            "      <td>True</td>\n",
                            "      <td>True</td>\n",
                            "      <td>2023-11-02 18:18:29</td>\n",
                            "      <td>2023-09-21 02:51:22</td>\n",
                            "      <td>2023-09-23 16:56:39</td>\n",
                            "      <td>18</td>\n",
                            "      <td>911617</td>\n",
                            "      <td>proj46</td>\n",
                            "    </tr>\n",
                            "    <tr>\n",
                            "      <th>830</th>\n",
                            "      <td>zgdSu8Yr87</td>\n",
                            "      <td>True</td>\n",
                            "      <td>True</td>\n",
                            "      <td>2023-11-02 18:18:29</td>\n",
                            "      <td>2023-09-21 02:51:22</td>\n",
                            "      <td>2023-09-23 16:56:39</td>\n",
                            "      <td>18</td>\n",
                            "      <td>755757</td>\n",
                            "      <td>proj250</td>\n",
                            "    </tr>\n",
                            "    <tr>\n",
                            "      <th>830</th>\n",
                            "      <td>zgdSu8Yr87</td>\n",
                            "      <td>True</td>\n",
                            "      <td>True</td>\n",
                            "      <td>2023-11-02 18:18:29</td>\n",
                            "      <td>2023-09-21 02:51:22</td>\n",
                            "      <td>2023-09-23 16:56:39</td>\n",
                            "      <td>18</td>\n",
                            "      <td>114436</td>\n",
                            "      <td>proj82</td>\n",
                            "    </tr>\n",
                            "    <tr>\n",
                            "      <th>830</th>\n",
                            "      <td>zgdSu8Yr87</td>\n",
                            "      <td>True</td>\n",
                            "      <td>True</td>\n",
                            "      <td>2023-11-02 18:18:29</td>\n",
                            "      <td>2023-09-21 02:51:22</td>\n",
                            "      <td>2023-09-23 16:56:39</td>\n",
                            "      <td>18</td>\n",
                            "      <td>360366</td>\n",
                            "      <td>proj216</td>\n",
                            "    </tr>\n",
                            "    <tr>\n",
                            "      <th>830</th>\n",
                            "      <td>zgdSu8Yr87</td>\n",
                            "      <td>True</td>\n",
                            "      <td>True</td>\n",
                            "      <td>2023-11-02 18:18:29</td>\n",
                            "      <td>2023-09-21 02:51:22</td>\n",
                            "      <td>2023-09-23 16:56:39</td>\n",
                            "      <td>18</td>\n",
                            "      <td>739516</td>\n",
                            "      <td>proj264</td>\n",
                            "    </tr>\n",
                            "    <tr>\n",
                            "      <th>830</th>\n",
                            "      <td>zgdSu8Yr87</td>\n",
                            "      <td>True</td>\n",
                            "      <td>True</td>\n",
                            "      <td>2023-11-02 18:18:29</td>\n",
                            "      <td>2023-09-21 02:51:22</td>\n",
                            "      <td>2023-09-23 16:56:39</td>\n",
                            "      <td>18</td>\n",
                            "      <td>64755</td>\n",
                            "      <td>proj21</td>\n",
                            "    </tr>\n",
                            "    <tr>\n",
                            "      <th>830</th>\n",
                            "      <td>zgdSu8Yr87</td>\n",
                            "      <td>True</td>\n",
                            "      <td>True</td>\n",
                            "      <td>2023-11-02 18:18:29</td>\n",
                            "      <td>2023-09-21 02:51:22</td>\n",
                            "      <td>2023-09-23 16:56:39</td>\n",
                            "      <td>18</td>\n",
                            "      <td>486968</td>\n",
                            "      <td>proj278</td>\n",
                            "    </tr>\n",
                            "    <tr>\n",
                            "      <th>830</th>\n",
                            "      <td>zgdSu8Yr87</td>\n",
                            "      <td>True</td>\n",
                            "      <td>True</td>\n",
                            "      <td>2023-11-02 18:18:29</td>\n",
                            "      <td>2023-09-21 02:51:22</td>\n",
                            "      <td>2023-09-23 16:56:39</td>\n",
                            "      <td>18</td>\n",
                            "      <td>89536</td>\n",
                            "      <td>proj6</td>\n",
                            "    </tr>\n",
                            "    <tr>\n",
                            "      <th>830</th>\n",
                            "      <td>zgdSu8Yr87</td>\n",
                            "      <td>True</td>\n",
                            "      <td>True</td>\n",
                            "      <td>2023-11-02 18:18:29</td>\n",
                            "      <td>2023-09-21 02:51:22</td>\n",
                            "      <td>2023-09-23 16:56:39</td>\n",
                            "      <td>18</td>\n",
                            "      <td>205981</td>\n",
                            "      <td>proj49</td>\n",
                            "    </tr>\n",
                            "    <tr>\n",
                            "      <th>830</th>\n",
                            "      <td>zgdSu8Yr87</td>\n",
                            "      <td>True</td>\n",
                            "      <td>True</td>\n",
                            "      <td>2023-11-02 18:18:29</td>\n",
                            "      <td>2023-09-21 02:51:22</td>\n",
                            "      <td>2023-09-23 16:56:39</td>\n",
                            "      <td>18</td>\n",
                            "      <td>534057</td>\n",
                            "      <td>proj415</td>\n",
                            "    </tr>\n",
                            "    <tr>\n",
                            "      <th>830</th>\n",
                            "      <td>zgdSu8Yr87</td>\n",
                            "      <td>True</td>\n",
                            "      <td>True</td>\n",
                            "      <td>2023-11-02 18:18:29</td>\n",
                            "      <td>2023-09-21 02:51:22</td>\n",
                            "      <td>2023-09-23 16:56:39</td>\n",
                            "      <td>18</td>\n",
                            "      <td>45512</td>\n",
                            "      <td>proj372</td>\n",
                            "    </tr>\n",
                            "  </tbody>\n",
                            "</table>\n",
                            "</div>"
                        ],
                        "text/plain": [
                            "    voter_address  has_voted  has_published         published_at  \\\n",
                            "830    zgdSu8Yr87       True           True  2023-11-02 18:18:29   \n",
                            "830    zgdSu8Yr87       True           True  2023-11-02 18:18:29   \n",
                            "830    zgdSu8Yr87       True           True  2023-11-02 18:18:29   \n",
                            "830    zgdSu8Yr87       True           True  2023-11-02 18:18:29   \n",
                            "830    zgdSu8Yr87       True           True  2023-11-02 18:18:29   \n",
                            "830    zgdSu8Yr87       True           True  2023-11-02 18:18:29   \n",
                            "830    zgdSu8Yr87       True           True  2023-11-02 18:18:29   \n",
                            "830    zgdSu8Yr87       True           True  2023-11-02 18:18:29   \n",
                            "830    zgdSu8Yr87       True           True  2023-11-02 18:18:29   \n",
                            "830    zgdSu8Yr87       True           True  2023-11-02 18:18:29   \n",
                            "830    zgdSu8Yr87       True           True  2023-11-02 18:18:29   \n",
                            "830    zgdSu8Yr87       True           True  2023-11-02 18:18:29   \n",
                            "830    zgdSu8Yr87       True           True  2023-11-02 18:18:29   \n",
                            "830    zgdSu8Yr87       True           True  2023-11-02 18:18:29   \n",
                            "830    zgdSu8Yr87       True           True  2023-11-02 18:18:29   \n",
                            "830    zgdSu8Yr87       True           True  2023-11-02 18:18:29   \n",
                            "830    zgdSu8Yr87       True           True  2023-11-02 18:18:29   \n",
                            "830    zgdSu8Yr87       True           True  2023-11-02 18:18:29   \n",
                            "\n",
                            "              created_at           updated_at  projects_in_ballot  amount  \\\n",
                            "830  2023-09-21 02:51:22  2023-09-23 16:56:39                  18  703749   \n",
                            "830  2023-09-21 02:51:22  2023-09-23 16:56:39                  18  385034   \n",
                            "830  2023-09-21 02:51:22  2023-09-23 16:56:39                  18  470511   \n",
                            "830  2023-09-21 02:51:22  2023-09-23 16:56:39                  18  113619   \n",
                            "830  2023-09-21 02:51:22  2023-09-23 16:56:39                  18  156327   \n",
                            "830  2023-09-21 02:51:22  2023-09-23 16:56:39                  18  622540   \n",
                            "830  2023-09-21 02:51:22  2023-09-23 16:56:39                  18   32962   \n",
                            "830  2023-09-21 02:51:22  2023-09-23 16:56:39                  18  911617   \n",
                            "830  2023-09-21 02:51:22  2023-09-23 16:56:39                  18  755757   \n",
                            "830  2023-09-21 02:51:22  2023-09-23 16:56:39                  18  114436   \n",
                            "830  2023-09-21 02:51:22  2023-09-23 16:56:39                  18  360366   \n",
                            "830  2023-09-21 02:51:22  2023-09-23 16:56:39                  18  739516   \n",
                            "830  2023-09-21 02:51:22  2023-09-23 16:56:39                  18   64755   \n",
                            "830  2023-09-21 02:51:22  2023-09-23 16:56:39                  18  486968   \n",
                            "830  2023-09-21 02:51:22  2023-09-23 16:56:39                  18   89536   \n",
                            "830  2023-09-21 02:51:22  2023-09-23 16:56:39                  18  205981   \n",
                            "830  2023-09-21 02:51:22  2023-09-23 16:56:39                  18  534057   \n",
                            "830  2023-09-21 02:51:22  2023-09-23 16:56:39                  18   45512   \n",
                            "\n",
                            "    project_id  \n",
                            "830    proj117  \n",
                            "830     proj51  \n",
                            "830    proj230  \n",
                            "830    proj204  \n",
                            "830    proj141  \n",
                            "830    proj390  \n",
                            "830    proj482  \n",
                            "830     proj46  \n",
                            "830    proj250  \n",
                            "830     proj82  \n",
                            "830    proj216  \n",
                            "830    proj264  \n",
                            "830     proj21  \n",
                            "830    proj278  \n",
                            "830      proj6  \n",
                            "830     proj49  \n",
                            "830    proj415  \n",
                            "830    proj372  "
                        ]
                    },
                    "execution_count": 35,
                    "metadata": {},
                    "output_type": "execute_result"
                }
            ],
            "source": [
                "# result_df.head()\n",
                "result_df[result_df[\"voter_address\"] == testing_address].head(70)"
            ]
        },
        {
            "cell_type": "markdown",
            "metadata": {},
            "source": [
                "## Calculate Voting Results"
            ]
        },
        {
            "cell_type": "code",
            "execution_count": 36,
            "metadata": {},
            "outputs": [],
            "source": [
                "allocator = ProjectAllocator(\n",
                "    total_amount=constants.TOTAL_AMOUNT,\n",
                "    min_amount=constants.MIN_AMOUNT,\n",
                "    quorum=constants.QUORUM,\n",
                ")"
            ]
        },
        {
            "cell_type": "code",
            "execution_count": 37,
            "metadata": {},
            "outputs": [],
            "source": [
                "initial_allocation = allocator.calculate_initial_allocation(result_df)"
            ]
        },
        {
            "cell_type": "code",
            "execution_count": 38,
            "metadata": {},
            "outputs": [
                {
                    "data": {
                        "text/html": [
                            "<div>\n",
                            "<style scoped>\n",
                            "    .dataframe tbody tr th:only-of-type {\n",
                            "        vertical-align: middle;\n",
                            "    }\n",
                            "\n",
                            "    .dataframe tbody tr th {\n",
                            "        vertical-align: top;\n",
                            "    }\n",
                            "\n",
                            "    .dataframe thead th {\n",
                            "        text-align: right;\n",
                            "    }\n",
                            "</style>\n",
                            "<table border=\"1\" class=\"dataframe\">\n",
                            "  <thead>\n",
                            "    <tr style=\"text-align: right;\">\n",
                            "      <th></th>\n",
                            "      <th>votes_count</th>\n",
                            "      <th>median_amount</th>\n",
                            "      <th>is_eligible</th>\n",
                            "    </tr>\n",
                            "    <tr>\n",
                            "      <th>project_id</th>\n",
                            "      <th></th>\n",
                            "      <th></th>\n",
                            "      <th></th>\n",
                            "    </tr>\n",
                            "  </thead>\n",
                            "  <tbody>\n",
                            "    <tr>\n",
                            "      <th>proj178</th>\n",
                            "      <td>12</td>\n",
                            "      <td>493485.50</td>\n",
                            "      <td>False</td>\n",
                            "    </tr>\n",
                            "  </tbody>\n",
                            "</table>\n",
                            "</div>"
                        ],
                        "text/plain": [
                            "            votes_count  median_amount  is_eligible\n",
                            "project_id                                         \n",
                            "proj178              12      493485.50        False"
                        ]
                    },
                    "metadata": {},
                    "output_type": "display_data"
                }
            ],
            "source": [
                "display(initial_allocation.sample(1))"
            ]
        },
        {
            "cell_type": "code",
            "execution_count": 39,
            "metadata": {},
            "outputs": [
                {
                    "name": "stderr",
                    "output_type": "stream",
                    "text": [
                        "2024-01-03 18:36:10 INFO | Check - Original Amount Eligible: 12322787.0\n",
                        "2024-01-03 18:36:10 INFO | Check - Scale Factor: 2.434514205268662\n",
                        "2024-01-03 18:36:10 INFO | Check - No projects below minimum OP\n",
                        "2024-01-03 18:36:10 INFO | Check - Current iteration: 1\n"
                    ]
                }
            ],
            "source": [
                "# Scaling the total to 30M OP by project and filter out those with < 1500 OP\n",
                "allocation_iter = initial_allocation[initial_allocation[\"is_eligible\"] == True].copy()\n",
                "allocation_iter[\"scaled_amount\"] = allocation_iter[\"median_amount\"]\n",
                "# display(allocation_iter)\n",
                "# Set a maximum number of iterations to prevent infinite loop\n",
                "max_iterations = 10\n",
                "current_iteration = 0\n",
                "\n",
                "while (\n",
                "    allocation_iter[\"scaled_amount\"].sum() != constants.TOTAL_AMOUNT\n",
                "    and current_iteration <= max_iterations\n",
                "):\n",
                "    allocation_iter = allocator.scale_allocations_oneby(allocation_iter)\n",
                "    current_iteration += 1\n",
                "\n",
                "    log.info(\"Check - Current iteration: \" + str(current_iteration))"
            ]
        },
        {
            "cell_type": "code",
            "execution_count": 40,
            "metadata": {},
            "outputs": [
                {
                    "name": "stderr",
                    "output_type": "stream",
                    "text": [
                        "2024-01-03 18:36:10 INFO | Condition met with 30000000.0 OP allocated through 1 iteration(s).\n"
                    ]
                }
            ],
            "source": [
                "# Check if the loop exited due to reaching max iterations\n",
                "if (\n",
                "    current_iteration == max_iterations\n",
                "    and allocation_iter[\"scaled_amount\"].sum() != constants.TOTAL_AMOUNT\n",
                "):\n",
                "    log.info(\"Maximum iterations reached without meeting the total amount condition.\")\n",
                "else:\n",
                "    final_total = allocation_iter[\"scaled_amount\"].sum()\n",
                "    log.info(\n",
                "        f\"Condition met with {final_total} OP allocated through {current_iteration} iteration(s).\"\n",
                "    )"
            ]
        },
        {
            "cell_type": "code",
            "execution_count": 41,
            "metadata": {},
            "outputs": [
                {
                    "name": "stderr",
                    "output_type": "stream",
                    "text": [
                        "2024-01-03 18:36:10 INFO | Check - Final allocation table has included all the projects.\n",
                        "2024-01-03 18:36:10 INFO | Check - Final allocation table sums to the right amount of OP: 30000000.0\n"
                    ]
                }
            ],
            "source": [
                "# join the initial allocation with the final allocation, if scaled_amount is null then make it 0\n",
                "final_allocation = initial_allocation.merge(\n",
                "    allocation_iter[\"scaled_amount\"],\n",
                "    how=\"left\",\n",
                "    on=\"project_id\",\n",
                ").fillna({\"scaled_amount\": 0})\n",
                "\n",
                "# check if the final allocation table still contains all projects.\n",
                "if final_allocation.index.nunique() == result_df[\"project_id\"].nunique():\n",
                "    log.info(\"Check - Final allocation table has included all the projects.\")\n",
                "else:\n",
                "    log.info(\n",
                "        \"Check - Final allocation table has missing projects. Printing out the missing projects below.\"\n",
                "    )\n",
                "    log.info(\n",
                "        result_df[~result_df[\"project_id\"].isin(final_allocation.index)][\"project_id\"]\n",
                "    )\n",
                "\n",
                "# check if the final allocation table still sums to the total amount.\n",
                "if final_allocation[\"scaled_amount\"].sum() == final_total:\n",
                "    log.info(\n",
                "        \"Check - Final allocation table sums to the right amount of OP: \"\n",
                "        + str(final_total)\n",
                "    )\n",
                "else:\n",
                "    log.info(\n",
                "        \"Check - Final allocation table does not sum to the total OP. Printing out the missing amount below.\"\n",
                "    )\n",
                "    log.info(str(final_total - final_allocation[\"scaled_amount\"].sum()) + \" OP\")"
            ]
        },
        {
            "cell_type": "code",
            "execution_count": 42,
            "metadata": {},
            "outputs": [
                {
                    "name": "stderr",
                    "output_type": "stream",
                    "text": [
                        "2024-01-03 18:36:10 INFO | Results saved in data/rpgf3_allocation_final.csv.\n"
                    ]
                }
            ],
            "source": [
                "# export csv\n",
                "# allocation_iter.drop(columns=\"median_amount\", inplace=True)\n",
                "final_allocation.to_csv(\"data/rpgf3_allocation_final.csv\")\n",
                "\n",
                "log.info(f\"Results saved in data/rpgf3_allocation_final.csv.\")"
            ]
        },
        {
            "cell_type": "code",
            "execution_count": 43,
            "metadata": {},
            "outputs": [
                {
                    "data": {
                        "text/html": [
                            "<div>\n",
                            "<style scoped>\n",
                            "    .dataframe tbody tr th:only-of-type {\n",
                            "        vertical-align: middle;\n",
                            "    }\n",
                            "\n",
                            "    .dataframe tbody tr th {\n",
                            "        vertical-align: top;\n",
                            "    }\n",
                            "\n",
                            "    .dataframe thead th {\n",
                            "        text-align: right;\n",
                            "    }\n",
                            "</style>\n",
                            "<table border=\"1\" class=\"dataframe\">\n",
                            "  <thead>\n",
                            "    <tr style=\"text-align: right;\">\n",
                            "      <th></th>\n",
                            "      <th>votes_count</th>\n",
                            "      <th>median_amount</th>\n",
                            "      <th>is_eligible</th>\n",
                            "      <th>scaled_amount</th>\n",
                            "    </tr>\n",
                            "    <tr>\n",
                            "      <th>project_id</th>\n",
                            "      <th></th>\n",
                            "      <th></th>\n",
                            "      <th></th>\n",
                            "      <th></th>\n",
                            "    </tr>\n",
                            "  </thead>\n",
                            "  <tbody>\n",
                            "    <tr>\n",
                            "      <th>proj26</th>\n",
                            "      <td>5</td>\n",
                            "      <td>841223.00</td>\n",
                            "      <td>False</td>\n",
                            "      <td>0.00</td>\n",
                            "    </tr>\n",
                            "    <tr>\n",
                            "      <th>proj323</th>\n",
                            "      <td>11</td>\n",
                            "      <td>838886.00</td>\n",
                            "      <td>False</td>\n",
                            "      <td>0.00</td>\n",
                            "    </tr>\n",
                            "    <tr>\n",
                            "      <th>proj123</th>\n",
                            "      <td>7</td>\n",
                            "      <td>829909.00</td>\n",
                            "      <td>False</td>\n",
                            "      <td>0.00</td>\n",
                            "    </tr>\n",
                            "    <tr>\n",
                            "      <th>proj170</th>\n",
                            "      <td>10</td>\n",
                            "      <td>817377.00</td>\n",
                            "      <td>False</td>\n",
                            "      <td>0.00</td>\n",
                            "    </tr>\n",
                            "    <tr>\n",
                            "      <th>proj46</th>\n",
                            "      <td>11</td>\n",
                            "      <td>802627.00</td>\n",
                            "      <td>False</td>\n",
                            "      <td>0.00</td>\n",
                            "    </tr>\n",
                            "    <tr>\n",
                            "      <th>proj269</th>\n",
                            "      <td>10</td>\n",
                            "      <td>793657.00</td>\n",
                            "      <td>False</td>\n",
                            "      <td>0.00</td>\n",
                            "    </tr>\n",
                            "    <tr>\n",
                            "      <th>proj12</th>\n",
                            "      <td>11</td>\n",
                            "      <td>787796.00</td>\n",
                            "      <td>False</td>\n",
                            "      <td>0.00</td>\n",
                            "    </tr>\n",
                            "    <tr>\n",
                            "      <th>proj196</th>\n",
                            "      <td>7</td>\n",
                            "      <td>782668.00</td>\n",
                            "      <td>False</td>\n",
                            "      <td>0.00</td>\n",
                            "    </tr>\n",
                            "    <tr>\n",
                            "      <th>proj287</th>\n",
                            "      <td>6</td>\n",
                            "      <td>782357.00</td>\n",
                            "      <td>False</td>\n",
                            "      <td>0.00</td>\n",
                            "    </tr>\n",
                            "    <tr>\n",
                            "      <th>proj130</th>\n",
                            "      <td>5</td>\n",
                            "      <td>778991.00</td>\n",
                            "      <td>False</td>\n",
                            "      <td>0.00</td>\n",
                            "    </tr>\n",
                            "  </tbody>\n",
                            "</table>\n",
                            "</div>"
                        ],
                        "text/plain": [
                            "            votes_count  median_amount  is_eligible  scaled_amount\n",
                            "project_id                                                        \n",
                            "proj26                5      841223.00        False           0.00\n",
                            "proj323              11      838886.00        False           0.00\n",
                            "proj123               7      829909.00        False           0.00\n",
                            "proj170              10      817377.00        False           0.00\n",
                            "proj46               11      802627.00        False           0.00\n",
                            "proj269              10      793657.00        False           0.00\n",
                            "proj12               11      787796.00        False           0.00\n",
                            "proj196               7      782668.00        False           0.00\n",
                            "proj287               6      782357.00        False           0.00\n",
                            "proj130               5      778991.00        False           0.00"
                        ]
                    },
                    "execution_count": 43,
                    "metadata": {},
                    "output_type": "execute_result"
                }
            ],
            "source": [
                "final_allocation.head(10)"
            ]
        },
        {
            "cell_type": "code",
            "execution_count": 44,
            "metadata": {},
            "outputs": [],
            "source": [
                "to_cut = (\n",
                "    allocation_iter[allocation_iter[\"scaled_amount\"] < 1500]\n",
                "    .sort_values(by=\"scaled_amount\")\n",
                "    .head(1)\n",
                ")"
            ]
        },
        {
            "cell_type": "code",
            "execution_count": 45,
            "metadata": {},
            "outputs": [
                {
                    "data": {
                        "text/plain": [
                            "True"
                        ]
                    },
                    "execution_count": 45,
                    "metadata": {},
                    "output_type": "execute_result"
                }
            ],
            "source": [
                "# check if to_cut is empty\n",
                "to_cut.empty"
            ]
        },
        {
            "cell_type": "markdown",
            "metadata": {},
            "source": [
                "### Calculate Voting Results using pytorch"
            ]
        },
        {
            "cell_type": "code",
            "execution_count": 46,
            "metadata": {},
            "outputs": [
                {
                    "name": "stdout",
                    "output_type": "stream",
                    "text": [
                        "voter_address         object\n",
                        "has_voted               bool\n",
                        "has_published           bool\n",
                        "published_at          object\n",
                        "created_at            object\n",
                        "updated_at            object\n",
                        "projects_in_ballot     int64\n",
                        "amount                 int64\n",
                        "project_id            object\n",
                        "dtype: object\n",
                        "     voter_address  has_voted  has_published         published_at  \\\n",
                        "689            491       True           True  2023-11-03 02:22:07   \n",
                        "897            240       True           True  2023-11-21 01:16:47   \n",
                        "790            260       True           True  2023-11-25 17:02:30   \n",
                        "643            156       True           True  2023-11-25 13:23:26   \n",
                        "160             74       True           True  2023-11-20 19:47:08   \n",
                        "\n",
                        "              created_at           updated_at  projects_in_ballot  amount  \\\n",
                        "689  2023-10-31 03:01:09  2023-11-02 13:18:21                   9   57138   \n",
                        "897  2023-11-17 09:56:08  2023-11-17 14:52:13                  15  199228   \n",
                        "790  2023-11-22 11:35:04  2023-11-24 11:25:56                   3  230502   \n",
                        "643  2023-11-06 06:49:47  2023-11-24 09:34:38                   6  404443   \n",
                        "160  2023-10-07 17:41:55  2023-11-06 12:38:54                   5  411623   \n",
                        "\n",
                        "     project_id  \n",
                        "689           0  \n",
                        "897           0  \n",
                        "790           0  \n",
                        "643           0  \n",
                        "160           0  \n",
                        "     voter_address  has_voted  has_published         published_at  \\\n",
                        "472            103       True           True  2023-11-21 08:57:35   \n",
                        "204            101       True           True  2023-10-25 22:15:28   \n",
                        "893            400       True           True  2023-11-27 05:49:58   \n",
                        "872            416       True           True  2023-11-28 21:09:28   \n",
                        "755            162       True           True  2023-11-30 23:40:01   \n",
                        "\n",
                        "              created_at           updated_at  projects_in_ballot  amount  \\\n",
                        "472  2023-10-05 15:03:09  2023-11-02 01:05:50                  17  527570   \n",
                        "204  2023-09-16 15:03:03  2023-10-04 11:47:05                  20  761835   \n",
                        "893  2023-11-15 13:33:22  2023-11-21 10:19:09                  17  796620   \n",
                        "872  2023-11-16 07:54:21  2023-11-28 01:02:01                  14  811648   \n",
                        "755  2023-10-31 22:13:33  2023-11-25 01:18:55                  17  883806   \n",
                        "\n",
                        "     project_id  \n",
                        "472         499  \n",
                        "204         499  \n",
                        "893         499  \n",
                        "872         499  \n",
                        "755         499  \n"
                    ]
                }
            ],
            "source": [
                "\n",
                "result_tensor, num_projects = allocator.convert_df_to_tensor(result_df)\n",
                "project_tensors = allocator.get_project_tensor(result_tensor, num_projects)\n"
            ]
        },
        {
            "cell_type": "code",
            "execution_count": 47,
            "metadata": {},
            "outputs": [
                {
                    "name": "stderr",
                    "output_type": "stream",
                    "text": [
                        "/Users/alexandercamuto/Documents/GitHub/zk-rpgf/core/utils.py:165: TracerWarning:\n",
                        "\n",
                        "torch.tensor results are registered as constants in the trace. You can safely ignore this warning if you use this function to create tensors out of constant variables that would be the same every time you call this function. In any other case, this might cause the trace to be incorrect.\n",
                        "\n"
                    ]
                }
            ],
            "source": [
                "# export to onnx\n",
                "allocator.eval()\n",
                "\n",
                "# convert projects tensors to tuple\n",
                "final_allocation_torch = allocator.forward(*project_tensors)\n",
                "final_allocation.shape\n",
                "\n",
                "input_names = ['input_' + str(i) for i in range(len(project_tensors))]\n",
                "    # Export the model\n",
                "torch.onnx.export(allocator,               # model being run\n",
                "                      tuple(project_tensors),          # model input (or a tuple for multiple inputs)\n",
                "                      \"network.onnx\",           # where to save the model (can be a file or file-like object)\n",
                "                      export_params=False,       # store the trained parameter weights inside the model file\n",
                "                      opset_version=17,         # the ONNX version to export the model to\n",
                "                      do_constant_folding=True, # whether to execute constant folding for optimization\n",
                "                      input_names = input_names,   # the model's input names\n",
                "                      output_names = ['output'])"
            ]
        },
        {
            "cell_type": "markdown",
            "metadata": {},
            "source": [
                "We now include sanity checks for the data. We will check the following:\n",
                "- that the pandas and pytorch dataframes are the same\n",
                "- that the median and scaled median allocations are the same\n",
                "- that eligibility is the same"
            ]
        },
        {
            "cell_type": "code",
            "execution_count": 48,
            "metadata": {},
            "outputs": [
                {
                    "data": {
                        "text/html": [
                            "<div>\n",
                            "<style scoped>\n",
                            "    .dataframe tbody tr th:only-of-type {\n",
                            "        vertical-align: middle;\n",
                            "    }\n",
                            "\n",
                            "    .dataframe tbody tr th {\n",
                            "        vertical-align: top;\n",
                            "    }\n",
                            "\n",
                            "    .dataframe thead th {\n",
                            "        text-align: right;\n",
                            "    }\n",
                            "</style>\n",
                            "<table border=\"1\" class=\"dataframe\">\n",
                            "  <thead>\n",
                            "    <tr style=\"text-align: right;\">\n",
                            "      <th></th>\n",
                            "      <th>votes_count</th>\n",
                            "      <th>median_amount</th>\n",
                            "      <th>is_eligible</th>\n",
                            "      <th>scaled_amount</th>\n",
                            "    </tr>\n",
                            "    <tr>\n",
                            "      <th>project_id</th>\n",
                            "      <th></th>\n",
                            "      <th></th>\n",
                            "      <th></th>\n",
                            "      <th></th>\n",
                            "    </tr>\n",
                            "  </thead>\n",
                            "  <tbody>\n",
                            "    <tr>\n",
                            "      <th>proj0</th>\n",
                            "      <td>8</td>\n",
                            "      <td>408033.00</td>\n",
                            "      <td>False</td>\n",
                            "      <td>0.00</td>\n",
                            "    </tr>\n",
                            "    <tr>\n",
                            "      <th>proj1</th>\n",
                            "      <td>10</td>\n",
                            "      <td>462152.00</td>\n",
                            "      <td>False</td>\n",
                            "      <td>0.00</td>\n",
                            "    </tr>\n",
                            "    <tr>\n",
                            "      <th>proj10</th>\n",
                            "      <td>13</td>\n",
                            "      <td>398607.00</td>\n",
                            "      <td>False</td>\n",
                            "      <td>0.00</td>\n",
                            "    </tr>\n",
                            "    <tr>\n",
                            "      <th>proj100</th>\n",
                            "      <td>9</td>\n",
                            "      <td>259604.00</td>\n",
                            "      <td>False</td>\n",
                            "      <td>0.00</td>\n",
                            "    </tr>\n",
                            "    <tr>\n",
                            "      <th>proj101</th>\n",
                            "      <td>9</td>\n",
                            "      <td>379887.00</td>\n",
                            "      <td>False</td>\n",
                            "      <td>0.00</td>\n",
                            "    </tr>\n",
                            "    <tr>\n",
                            "      <th>proj102</th>\n",
                            "      <td>13</td>\n",
                            "      <td>460381.00</td>\n",
                            "      <td>False</td>\n",
                            "      <td>0.00</td>\n",
                            "    </tr>\n",
                            "    <tr>\n",
                            "      <th>proj103</th>\n",
                            "      <td>13</td>\n",
                            "      <td>526428.00</td>\n",
                            "      <td>False</td>\n",
                            "      <td>0.00</td>\n",
                            "    </tr>\n",
                            "    <tr>\n",
                            "      <th>proj104</th>\n",
                            "      <td>10</td>\n",
                            "      <td>350640.00</td>\n",
                            "      <td>False</td>\n",
                            "      <td>0.00</td>\n",
                            "    </tr>\n",
                            "    <tr>\n",
                            "      <th>proj105</th>\n",
                            "      <td>4</td>\n",
                            "      <td>538145.50</td>\n",
                            "      <td>False</td>\n",
                            "      <td>0.00</td>\n",
                            "    </tr>\n",
                            "    <tr>\n",
                            "      <th>proj106</th>\n",
                            "      <td>14</td>\n",
                            "      <td>480345.00</td>\n",
                            "      <td>False</td>\n",
                            "      <td>0.00</td>\n",
                            "    </tr>\n",
                            "  </tbody>\n",
                            "</table>\n",
                            "</div>"
                        ],
                        "text/plain": [
                            "            votes_count  median_amount  is_eligible  scaled_amount\n",
                            "project_id                                                        \n",
                            "proj0                 8      408033.00        False           0.00\n",
                            "proj1                10      462152.00        False           0.00\n",
                            "proj10               13      398607.00        False           0.00\n",
                            "proj100               9      259604.00        False           0.00\n",
                            "proj101               9      379887.00        False           0.00\n",
                            "proj102              13      460381.00        False           0.00\n",
                            "proj103              13      526428.00        False           0.00\n",
                            "proj104              10      350640.00        False           0.00\n",
                            "proj105               4      538145.50        False           0.00\n",
                            "proj106              14      480345.00        False           0.00"
                        ]
                    },
                    "metadata": {},
                    "output_type": "display_data"
                },
                {
                    "data": {
                        "text/html": [
                            "<div>\n",
                            "<style scoped>\n",
                            "    .dataframe tbody tr th:only-of-type {\n",
                            "        vertical-align: middle;\n",
                            "    }\n",
                            "\n",
                            "    .dataframe tbody tr th {\n",
                            "        vertical-align: top;\n",
                            "    }\n",
                            "\n",
                            "    .dataframe thead th {\n",
                            "        text-align: right;\n",
                            "    }\n",
                            "</style>\n",
                            "<table border=\"1\" class=\"dataframe\">\n",
                            "  <thead>\n",
                            "    <tr style=\"text-align: right;\">\n",
                            "      <th></th>\n",
                            "      <th>votes_count</th>\n",
                            "      <th>median_amount</th>\n",
                            "      <th>is_eligible</th>\n",
                            "      <th>scaled_amount</th>\n",
                            "    </tr>\n",
                            "    <tr>\n",
                            "      <th>project_id</th>\n",
                            "      <th></th>\n",
                            "      <th></th>\n",
                            "      <th></th>\n",
                            "      <th></th>\n",
                            "    </tr>\n",
                            "  </thead>\n",
                            "  <tbody>\n",
                            "    <tr>\n",
                            "      <th>proj0</th>\n",
                            "      <td>8</td>\n",
                            "      <td>408033.00</td>\n",
                            "      <td>False</td>\n",
                            "      <td>0.00</td>\n",
                            "    </tr>\n",
                            "    <tr>\n",
                            "      <th>proj1</th>\n",
                            "      <td>10</td>\n",
                            "      <td>462152.00</td>\n",
                            "      <td>False</td>\n",
                            "      <td>0.00</td>\n",
                            "    </tr>\n",
                            "    <tr>\n",
                            "      <th>proj10</th>\n",
                            "      <td>13</td>\n",
                            "      <td>398607.00</td>\n",
                            "      <td>False</td>\n",
                            "      <td>0.00</td>\n",
                            "    </tr>\n",
                            "    <tr>\n",
                            "      <th>proj100</th>\n",
                            "      <td>9</td>\n",
                            "      <td>259604.00</td>\n",
                            "      <td>False</td>\n",
                            "      <td>0.00</td>\n",
                            "    </tr>\n",
                            "    <tr>\n",
                            "      <th>proj101</th>\n",
                            "      <td>9</td>\n",
                            "      <td>379887.00</td>\n",
                            "      <td>False</td>\n",
                            "      <td>0.00</td>\n",
                            "    </tr>\n",
                            "    <tr>\n",
                            "      <th>proj102</th>\n",
                            "      <td>13</td>\n",
                            "      <td>460381.00</td>\n",
                            "      <td>False</td>\n",
                            "      <td>0.00</td>\n",
                            "    </tr>\n",
                            "    <tr>\n",
                            "      <th>proj103</th>\n",
                            "      <td>13</td>\n",
                            "      <td>526428.00</td>\n",
                            "      <td>False</td>\n",
                            "      <td>0.00</td>\n",
                            "    </tr>\n",
                            "    <tr>\n",
                            "      <th>proj104</th>\n",
                            "      <td>10</td>\n",
                            "      <td>350640.00</td>\n",
                            "      <td>False</td>\n",
                            "      <td>0.00</td>\n",
                            "    </tr>\n",
                            "    <tr>\n",
                            "      <th>proj105</th>\n",
                            "      <td>4</td>\n",
                            "      <td>538145.50</td>\n",
                            "      <td>False</td>\n",
                            "      <td>0.00</td>\n",
                            "    </tr>\n",
                            "    <tr>\n",
                            "      <th>proj106</th>\n",
                            "      <td>14</td>\n",
                            "      <td>480345.00</td>\n",
                            "      <td>False</td>\n",
                            "      <td>0.00</td>\n",
                            "    </tr>\n",
                            "  </tbody>\n",
                            "</table>\n",
                            "</div>"
                        ],
                        "text/plain": [
                            "            votes_count  median_amount  is_eligible  scaled_amount\n",
                            "project_id                                                        \n",
                            "proj0                 8      408033.00        False           0.00\n",
                            "proj1                10      462152.00        False           0.00\n",
                            "proj10               13      398607.00        False           0.00\n",
                            "proj100               9      259604.00        False           0.00\n",
                            "proj101               9      379887.00        False           0.00\n",
                            "proj102              13      460381.00        False           0.00\n",
                            "proj103              13      526428.00        False           0.00\n",
                            "proj104              10      350640.00        False           0.00\n",
                            "proj105               4      538145.50        False           0.00\n",
                            "proj106              14      480345.00        False           0.00"
                        ]
                    },
                    "metadata": {},
                    "output_type": "display_data"
                },
                {
                    "name": "stdout",
                    "output_type": "stream",
                    "text": [
                        "Are the two outputs equal?\n"
                    ]
                },
                {
                    "data": {
                        "text/html": [
                            "<div>\n",
                            "<style scoped>\n",
                            "    .dataframe tbody tr th:only-of-type {\n",
                            "        vertical-align: middle;\n",
                            "    }\n",
                            "\n",
                            "    .dataframe tbody tr th {\n",
                            "        vertical-align: top;\n",
                            "    }\n",
                            "\n",
                            "    .dataframe thead tr th {\n",
                            "        text-align: left;\n",
                            "    }\n",
                            "\n",
                            "    .dataframe thead tr:last-of-type th {\n",
                            "        text-align: right;\n",
                            "    }\n",
                            "</style>\n",
                            "<table border=\"1\" class=\"dataframe\">\n",
                            "  <thead>\n",
                            "    <tr>\n",
                            "      <th></th>\n",
                            "      <th colspan=\"2\" halign=\"left\">scaled_amount</th>\n",
                            "    </tr>\n",
                            "    <tr>\n",
                            "      <th></th>\n",
                            "      <th>self</th>\n",
                            "      <th>other</th>\n",
                            "    </tr>\n",
                            "    <tr>\n",
                            "      <th>project_id</th>\n",
                            "      <th></th>\n",
                            "      <th></th>\n",
                            "    </tr>\n",
                            "  </thead>\n",
                            "  <tbody>\n",
                            "    <tr>\n",
                            "      <th>proj109</th>\n",
                            "      <td>1336049.38</td>\n",
                            "      <td>1312724.14</td>\n",
                            "    </tr>\n",
                            "    <tr>\n",
                            "      <th>proj167</th>\n",
                            "      <td>1478419.62</td>\n",
                            "      <td>1452608.89</td>\n",
                            "    </tr>\n",
                            "    <tr>\n",
                            "      <th>proj174</th>\n",
                            "      <td>1676150.75</td>\n",
                            "      <td>1646888.00</td>\n",
                            "    </tr>\n",
                            "    <tr>\n",
                            "      <th>proj209</th>\n",
                            "      <td>1833628.00</td>\n",
                            "      <td>1801615.98</td>\n",
                            "    </tr>\n",
                            "    <tr>\n",
                            "      <th>proj232</th>\n",
                            "      <td>929028.25</td>\n",
                            "      <td>912808.93</td>\n",
                            "    </tr>\n",
                            "    <tr>\n",
                            "      <th>proj242</th>\n",
                            "      <td>1256213.12</td>\n",
                            "      <td>1234281.66</td>\n",
                            "    </tr>\n",
                            "    <tr>\n",
                            "      <th>proj275</th>\n",
                            "      <td>1379720.12</td>\n",
                            "      <td>1355632.46</td>\n",
                            "    </tr>\n",
                            "    <tr>\n",
                            "      <th>proj303</th>\n",
                            "      <td>1286749.12</td>\n",
                            "      <td>1264284.61</td>\n",
                            "    </tr>\n",
                            "    <tr>\n",
                            "      <th>proj309</th>\n",
                            "      <td>1076575.88</td>\n",
                            "      <td>1057780.60</td>\n",
                            "    </tr>\n",
                            "    <tr>\n",
                            "      <th>proj315</th>\n",
                            "      <td>844697.31</td>\n",
                            "      <td>829950.24</td>\n",
                            "    </tr>\n",
                            "    <tr>\n",
                            "      <th>proj356</th>\n",
                            "      <td>945747.00</td>\n",
                            "      <td>929235.81</td>\n",
                            "    </tr>\n",
                            "    <tr>\n",
                            "      <th>proj390</th>\n",
                            "      <td>1243804.38</td>\n",
                            "      <td>1222089.61</td>\n",
                            "    </tr>\n",
                            "    <tr>\n",
                            "      <th>proj407</th>\n",
                            "      <td>1252619.12</td>\n",
                            "      <td>1230750.40</td>\n",
                            "    </tr>\n",
                            "    <tr>\n",
                            "      <th>proj413</th>\n",
                            "      <td>945123.88</td>\n",
                            "      <td>928623.53</td>\n",
                            "    </tr>\n",
                            "    <tr>\n",
                            "      <th>proj427</th>\n",
                            "      <td>973818.88</td>\n",
                            "      <td>956817.64</td>\n",
                            "    </tr>\n",
                            "    <tr>\n",
                            "      <th>proj447</th>\n",
                            "      <td>1002437.19</td>\n",
                            "      <td>984936.28</td>\n",
                            "    </tr>\n",
                            "    <tr>\n",
                            "      <th>proj451</th>\n",
                            "      <td>1143725.88</td>\n",
                            "      <td>1123758.37</td>\n",
                            "    </tr>\n",
                            "    <tr>\n",
                            "      <th>proj470</th>\n",
                            "      <td>1735069.75</td>\n",
                            "      <td>1704778.31</td>\n",
                            "    </tr>\n",
                            "    <tr>\n",
                            "      <th>proj484</th>\n",
                            "      <td>1362222.12</td>\n",
                            "      <td>1338439.92</td>\n",
                            "    </tr>\n",
                            "    <tr>\n",
                            "      <th>proj489</th>\n",
                            "      <td>1595328.38</td>\n",
                            "      <td>1567476.58</td>\n",
                            "    </tr>\n",
                            "    <tr>\n",
                            "      <th>proj499</th>\n",
                            "      <td>1422662.38</td>\n",
                            "      <td>1397825.02</td>\n",
                            "    </tr>\n",
                            "    <tr>\n",
                            "      <th>proj51</th>\n",
                            "      <td>1093450.75</td>\n",
                            "      <td>1074360.86</td>\n",
                            "    </tr>\n",
                            "    <tr>\n",
                            "      <th>proj59</th>\n",
                            "      <td>1204028.62</td>\n",
                            "      <td>1183008.36</td>\n",
                            "    </tr>\n",
                            "    <tr>\n",
                            "      <th>proj71</th>\n",
                            "      <td>1515787.00</td>\n",
                            "      <td>1489323.80</td>\n",
                            "    </tr>\n",
                            "  </tbody>\n",
                            "</table>\n",
                            "</div>"
                        ],
                        "text/plain": [
                            "           scaled_amount           \n",
                            "                    self      other\n",
                            "project_id                         \n",
                            "proj109       1336049.38 1312724.14\n",
                            "proj167       1478419.62 1452608.89\n",
                            "proj174       1676150.75 1646888.00\n",
                            "proj209       1833628.00 1801615.98\n",
                            "proj232        929028.25  912808.93\n",
                            "proj242       1256213.12 1234281.66\n",
                            "proj275       1379720.12 1355632.46\n",
                            "proj303       1286749.12 1264284.61\n",
                            "proj309       1076575.88 1057780.60\n",
                            "proj315        844697.31  829950.24\n",
                            "proj356        945747.00  929235.81\n",
                            "proj390       1243804.38 1222089.61\n",
                            "proj407       1252619.12 1230750.40\n",
                            "proj413        945123.88  928623.53\n",
                            "proj427        973818.88  956817.64\n",
                            "proj447       1002437.19  984936.28\n",
                            "proj451       1143725.88 1123758.37\n",
                            "proj470       1735069.75 1704778.31\n",
                            "proj484       1362222.12 1338439.92\n",
                            "proj489       1595328.38 1567476.58\n",
                            "proj499       1422662.38 1397825.02\n",
                            "proj51        1093450.75 1074360.86\n",
                            "proj59        1204028.62 1183008.36\n",
                            "proj71        1515787.00 1489323.80"
                        ]
                    },
                    "execution_count": 48,
                    "metadata": {},
                    "output_type": "execute_result"
                }
            ],
            "source": [
                "\n",
                "# a bunch of code to compare pytorch output and the pandas output as a sanity check\n",
                "final_allocation_torch_np = final_allocation_torch.detach().numpy()\n",
                "final_allocation_torch_df = pd.DataFrame(final_allocation_torch_np, columns=[\"votes_count\", \"median_amount\", \"is_eligible\", \"scaled_amount\"])\n",
                "# convert is eligible to boolean\n",
                "final_allocation_torch_df[\"is_eligible\"] = final_allocation_torch_df[\"is_eligible\"].astype(bool)\n",
                "# convert votes count to int\n",
                "final_allocation_torch_df[\"votes_count\"] = final_allocation_torch_df[\"votes_count\"].astype(int)\n",
                "# add index project_id\n",
                "final_allocation_torch_df = final_allocation_torch_df.set_index(final_allocation.index.sort_values())\n",
                "\n",
                "# sorted vy project id\n",
                "final_allocation_torch_df = final_allocation_torch_df.sort_index()\n",
                "# sort final allocation by project id\n",
                "final_allocation_sorted = final_allocation.sort_index()\n",
                "\n",
                "display(final_allocation_torch_df.head(10))\n",
                "display(final_allocation_sorted.head(10))\n",
                "# compare the two outputs\n",
                "print(\"Are the two outputs equal?\")\n",
                "final_allocation_torch_df.compare(final_allocation_sorted)\n"
            ]
        },
        {
            "cell_type": "markdown",
            "metadata": {},
            "source": [
                "TODO: investigate the small differences in the scaled median allocations. Seems like pandas adds some small epsilons during calculations that compound."
            ]
        },
        {
            "cell_type": "markdown",
            "metadata": {},
            "source": [
                "After which we can proceed to generate the settings file for `ezkl` and run calibrate settings to find the optimal settings for `ezkl`"
            ]
        },
        {
            "cell_type": "code",
            "execution_count": 49,
            "metadata": {},
            "outputs": [],
            "source": [
                "import ezkl\n",
                "import os\n",
                "\n",
                "model_path = \"network.onnx\"\n",
                "settings_path = \"settings.json\"\n",
                "compiled_model_path = os.path.join('network.compiled')\n",
                "pk_path = os.path.join('test.pk')\n",
                "vk_path = os.path.join('test.vk')\n",
                "settings_path = os.path.join('settings.json')\n",
                "\n",
                "witness_path = os.path.join('witness.json')\n",
                "data_path = os.path.join('input.json')\n",
                "\n",
                "py_run_args = ezkl.PyRunArgs()\n",
                "py_run_args.input_visibility = \"private\"\n",
                "py_run_args.output_visibility = \"public\"\n",
                "py_run_args.param_visibility = \"fixed\" # private by default\n",
                "py_run_args.num_inner_cols = 1\n",
                "\n",
                "res = ezkl.gen_settings(model_path, settings_path, py_run_args=py_run_args)\n",
                "assert res == True"
            ]
        },
        {
            "cell_type": "markdown",
            "metadata": {},
            "source": [
                "We calibrate the settings to finetune the circuit to the data. This is done by running the `calibrate_settings` function."
            ]
        },
        {
            "cell_type": "code",
            "execution_count": 50,
            "metadata": {},
            "outputs": [
                {
                    "name": "stderr",
                    "output_type": "stream",
                    "text": [
                        "max lookup input (558195204096000) is too large\n",
                        "max lookup input (8045347637035008000) is too large\n"
                    ]
                },
                {
                    "data": {
                        "text/plain": [
                            "True"
                        ]
                    },
                    "execution_count": 50,
                    "metadata": {},
                    "output_type": "execute_result"
                }
            ],
            "source": [
                "data_path = os.path.join(\"input.json\")\n",
                "\n",
                "data = dict(input_data = [tensor.detach().numpy().reshape([-1]).tolist() for tensor in project_tensors])\n",
                "\n",
                "# Serialize data into file:\n",
                "json.dump(data, open(data_path, 'w'))\n",
                "\n",
                "ezkl.calibrate_settings(data_path, model_path, settings_path, \"accuracy\", lookup_safety_margin=1, scales=[14])\n",
                "\n"
            ]
        },
        {
            "cell_type": "code",
            "execution_count": 51,
            "metadata": {},
            "outputs": [],
            "source": [
                "# load settings and shrink run_args.logrows by 1 to induce overflow for lookups \n",
                "settings = json.load(open(settings_path, 'r'))\n",
                "settings['run_args']['logrows'] -= 1\n",
                "json.dump(settings, open(settings_path, 'w'))"
            ]
        },
        {
            "cell_type": "markdown",
            "metadata": {},
            "source": [
                "Next, we will compile the model. The compilation step allow us to generate proofs faster."
            ]
        },
        {
            "cell_type": "code",
            "execution_count": 52,
            "metadata": {},
            "outputs": [],
            "source": [
                "res = ezkl.compile_circuit(model_path, compiled_model_path, settings_path)\n",
                "assert res == True"
            ]
        },
        {
            "cell_type": "markdown",
            "metadata": {},
            "source": [
                "Before we can setup the circuit params, we need a SRS (Structured Reference String). The SRS is used to generate the proofs."
            ]
        },
        {
            "cell_type": "code",
            "execution_count": 53,
            "metadata": {},
            "outputs": [],
            "source": [
                "# srs path\n",
                "res = ezkl.get_srs( settings_path)"
            ]
        },
        {
            "cell_type": "markdown",
            "metadata": {},
            "source": []
        },
        {
            "cell_type": "code",
            "execution_count": 54,
            "metadata": {},
            "outputs": [],
            "source": [
                "# now generate the witness file \n",
                "\n",
                "res = ezkl.gen_witness(data_path, compiled_model_path, witness_path)\n",
                "assert os.path.isfile(witness_path)"
            ]
        },
        {
            "cell_type": "markdown",
            "metadata": {},
            "source": [
                "Now run setup, this will generate a proving key (pk) and verification key (vk). The proving key is used for proving while the verification key is used for verificaton."
            ]
        },
        {
            "cell_type": "code",
            "execution_count": null,
            "metadata": {},
            "outputs": [
                {
                    "name": "stderr",
                    "output_type": "stream",
                    "text": [
                        "Using 2 columns for non-linearity table.\n",
                        "Using 2 columns for non-linearity table.\n",
                        "Using 2 columns for non-linearity table.\n",
                        "Using 2 columns for non-linearity table.\n",
                        "Using 2 columns for non-linearity table.\n",
                        "Using 2 columns for non-linearity table.\n",
                        "spawning module 2\n",
                        "Using 2 columns for non-linearity table.\n",
                        "Using 2 columns for non-linearity table.\n",
                        "Using 2 columns for non-linearity table.\n",
                        "Using 2 columns for non-linearity table.\n",
                        "Using 2 columns for non-linearity table.\n",
                        "Using 2 columns for non-linearity table.\n",
                        "spawning module 2\n"
                    ]
                }
            ],
            "source": [
                "\n",
                "# setup\n",
                "res = ezkl.setup(\n",
                "        compiled_model_path,\n",
                "        vk_path,\n",
                "        pk_path,\n",
                "    )\n",
                "\n",
                "assert res == True\n",
                "assert os.path.isfile(vk_path)\n",
                "assert os.path.isfile(pk_path)\n",
                "assert os.path.isfile(settings_path)"
            ]
        },
        {
            "cell_type": "code",
            "execution_count": null,
            "metadata": {},
            "outputs": [
                {
                    "name": "stderr",
                    "output_type": "stream",
                    "text": [
                        "Using 2 columns for non-linearity table.\n",
                        "Using 2 columns for non-linearity table.\n",
                        "Using 2 columns for non-linearity table.\n",
                        "Using 2 columns for non-linearity table.\n",
                        "Using 2 columns for non-linearity table.\n",
                        "Using 2 columns for non-linearity table.\n",
                        "Using 2 columns for non-linearity table.\n",
                        "Using 2 columns for non-linearity table.\n",
                        "Using 2 columns for non-linearity table.\n",
                        "Using 2 columns for non-linearity table.\n",
                        "Using 2 columns for non-linearity table.\n",
                        "Using 2 columns for non-linearity table.\n",
                        "spawning module 2\n"
                    ]
                },
                {
                    "ename": "",
                    "evalue": "",
                    "output_type": "error",
                    "traceback": [
                        "\u001b[1;31mThe Kernel crashed while executing code in the the current cell or a previous cell. Please review the code in the cell(s) to identify a possible cause of the failure. Click <a href='https://aka.ms/vscodeJupyterKernelCrash'>here</a> for more info. View Jupyter <a href='command:jupyter.viewOutput'>log</a> for further details."
                    ]
                }
            ],
            "source": [
                "# GENERATE A PROOF\n",
                "\n",
                "\n",
                "proof_path = os.path.join('test.pf')\n",
                "\n",
                "res = ezkl.prove(\n",
                "        witness_path,\n",
                "        compiled_model_path,\n",
                "        pk_path,\n",
                "        proof_path,\n",
                "        \"single\",\n",
                "    )\n",
                "\n",
                "print(res)\n",
                "assert os.path.isfile(proof_path)"
            ]
        },
        {
            "cell_type": "markdown",
            "metadata": {},
            "source": [
                "We can now verify the proof. "
            ]
        },
        {
            "cell_type": "code",
            "execution_count": null,
            "metadata": {},
            "outputs": [],
            "source": [
                "# VERIFY IT\n",
                "\n",
                "res = ezkl.verify(\n",
                "        proof_path,\n",
                "        settings_path,\n",
                "        vk_path,\n",
                "    )\n",
                "\n",
                "assert res == True\n",
                "print(\"verified\")"
            ]
        },
        {
            "cell_type": "markdown",
            "metadata": {},
            "source": [
                "We can now create an EVM / `.sol` verifier that can be deployed on chain to verify submitted proofs using a view function."
            ]
        },
        {
            "cell_type": "code",
            "execution_count": null,
            "metadata": {},
            "outputs": [],
            "source": [
                "\n",
                "abi_path = 'test.abi'\n",
                "sol_code_path = 'test_1.sol'\n",
                "\n",
                "res = ezkl.create_evm_verifier(\n",
                "        vk_path,\n",
                "        settings_path,\n",
                "        sol_code_path,\n",
                "        abi_path,\n",
                "    )\n",
                "assert res == True"
            ]
        },
        {
            "cell_type": "markdown",
            "metadata": {},
            "source": [
                "# Sanity checks on circuit outputs"
            ]
        },
        {
            "cell_type": "code",
            "execution_count": 56,
            "metadata": {},
            "outputs": [],
            "source": [
                "\n",
                "import onnx\n",
                "import onnxruntime\n",
                "import os\n",
                "import json\n",
                "import ezkl\n",
                "import numpy as np\n",
                "\n",
                "witness_path = os.path.join('witness.json')\n",
                "settings_path = os.path.join('settings.json')\n",
                "model_path = os.path.join('network.onnx')\n",
                "data_path = os.path.join('input.json')\n",
                "\n",
                "def get_ezkl_output(witness_file, settings_file):\n",
                "    # convert the quantized ezkl output to float value\n",
                "    witness_output = json.load(open(witness_file))\n",
                "    outputs = witness_output['outputs']\n",
                "    with open(settings_file) as f:\n",
                "        settings = json.load(f)\n",
                "    ezkl_outputs = [[ezkl.vecu64_to_float(\n",
                "        outputs[i][j], settings['model_output_scales'][i]) for j in range(len(outputs[i]))] for i in range(len(outputs))]\n",
                "    return ezkl_outputs\n",
                "\n",
                "\n",
                "def get_onnx_output(model_file, input_file):\n",
                "    # generate the ML model output from the ONNX file\n",
                "    onnx_model = onnx.load(model_file)\n",
                "    onnx.checker.check_model(onnx_model)\n",
                "\n",
                "    with open(input_file) as f:\n",
                "        inputs = json.load(f)\n",
                "    # reshape the input to the model\n",
                "    num_inputs = len(inputs['input_data'])\n",
                "\n",
                "    onnx_input = dict()\n",
                "    for i in range(num_inputs):\n",
                "        input_node = onnx_model.graph.input[i]\n",
                "        dims = []\n",
                "        elem_type = input_node.type.tensor_type.elem_type\n",
                "        for dim in input_node.type.tensor_type.shape.dim:\n",
                "            if dim.dim_value == 0:\n",
                "                dims.append(1)\n",
                "            else:\n",
                "                dims.append(dim.dim_value)\n",
                "        if elem_type == 7:\n",
                "            inputs_onnx = np.array(inputs['input_data'][i]).astype(\n",
                "                np.int64).reshape(dims)\n",
                "        elif elem_type == 9:\n",
                "            inputs_onnx = np.array(inputs['input_data'][i]).astype(\n",
                "                bool).reshape(dims)\n",
                "        else:\n",
                "            inputs_onnx = np.array(inputs['input_data'][i]).astype(\n",
                "                np.float32).reshape(dims)\n",
                "        onnx_input[input_node.name] = inputs_onnx\n",
                "    try:\n",
                "        onnx_session = onnxruntime.InferenceSession(model_file)\n",
                "        onnx_output = onnx_session.run(None, onnx_input)\n",
                "    except Exception as e:\n",
                "        print(\"Error in ONNX runtime: \", e)\n",
                "        print(\"using inputs[output_data]\")\n",
                "        onnx_output = inputs['output_data']\n",
                "    return onnx_output[0]\n",
                "\n",
                "\n",
                "def compare_outputs(zk_output, onnx_output):\n",
                "    # calculate hamming difference between the 2 outputs (which are lists)\n",
                "\n",
                "    res = []\n",
                "    \n",
                "   \n",
                "\n",
                "    contains_sublist = any(isinstance(sub, list) for sub in zk_output)\n",
                "    if contains_sublist:\n",
                "        try:\n",
                "            if len(onnx_output) == 1:\n",
                "                zk_output = zk_output[0]\n",
                "        except Exception as e:\n",
                "            zk_output = zk_output[0]\n",
                "\n",
                "    flat_zk_output = np.array(zk_output).flatten()\n",
                "    flat_onnx_output = np.array(onnx_output).flatten()\n",
                "    \n",
                "    \n",
                "    # select every 4th element\n",
                "    scaled_amount_zk = flat_zk_output[3::4]\n",
                "    scaled_amount_onnx = flat_onnx_output[3::4]\n",
                "    \n",
                "    # print the diff where they are not both 0\n",
                "    print(\"scaled amount diff\")\n",
                "    for i in range(len(scaled_amount_zk)):\n",
                "        if scaled_amount_zk[i] != 0.0 and scaled_amount_onnx[i] != 0.0:\n",
                "            print(\"scaled amount zk: \", scaled_amount_zk[i])\n",
                "            print(\"scaled amount onnx: \", scaled_amount_onnx[i])\n",
                "            print(\"diff: \", scaled_amount_zk[i] - scaled_amount_onnx[i])\n",
                "            print(\"percent diff: \", 100*(scaled_amount_zk[i] - scaled_amount_onnx[i]) / scaled_amount_onnx[i])\n",
                "    \n",
                "    zip_object = zip(flat_zk_output[3::4], flat_onnx_output[3::4])\n",
                "    \n",
                "    for list1_i, list2_i in zip_object:\n",
                "        if list1_i == 0.0 and list2_i == 0.0:\n",
                "            res.append(0)\n",
                "        else:\n",
                "            percent_diff = (list1_i - list2_i) / list2_i\n",
                "            res.append(percent_diff)\n",
                "\n",
                "\n",
                "    return np.abs(res)"
            ]
        },
        {
            "cell_type": "code",
            "execution_count": null,
            "metadata": {},
            "outputs": [
                {
                    "name": "stdout",
                    "output_type": "stream",
                    "text": [
                        "scaled amount diff\n",
                        "scaled amount zk:  1332895.9350585938\n",
                        "scaled amount onnx:  1336049.4\n",
                        "diff:  -3153.43994140625\n",
                        "percent diff:  -0.23602720082154524\n",
                        "scaled amount zk:  1474930.2062988281\n",
                        "scaled amount onnx:  1478419.6\n",
                        "diff:  -3489.418701171875\n",
                        "percent diff:  -0.23602356476916186\n",
                        "scaled amount zk:  1672194.6716308594\n",
                        "scaled amount onnx:  1676150.8\n",
                        "diff:  -3956.078369140625\n",
                        "percent diff:  -0.23602163284779876\n",
                        "scaled amount zk:  1829300.2624511719\n",
                        "scaled amount onnx:  1833628.0\n",
                        "diff:  -4327.737548828125\n",
                        "percent diff:  -0.2360204768267132\n",
                        "scaled amount zk:  926835.4797363281\n",
                        "scaled amount onnx:  929028.25\n",
                        "diff:  -2192.770263671875\n",
                        "percent diff:  -0.23602837305236682\n",
                        "scaled amount zk:  1253248.0773925781\n",
                        "scaled amount onnx:  1256213.1\n",
                        "diff:  -2965.047607421875\n",
                        "percent diff:  -0.2360306184049681\n",
                        "scaled amount zk:  1376463.5925292969\n",
                        "scaled amount onnx:  1379720.1\n",
                        "diff:  -3256.532470703125\n",
                        "percent diff:  -0.23602848227665918\n",
                        "scaled amount zk:  1283712.0666503906\n",
                        "scaled amount onnx:  1286749.1\n",
                        "diff:  -3037.058349609375\n",
                        "percent diff:  -0.236025678246284\n",
                        "scaled amount zk:  1074036.0717773438\n",
                        "scaled amount onnx:  1076575.9\n",
                        "diff:  -2539.80322265625\n",
                        "percent diff:  -0.23591493006995443\n",
                        "scaled amount zk:  842703.5522460938\n",
                        "scaled amount onnx:  844697.3\n",
                        "diff:  -1993.76025390625\n",
                        "percent diff:  -0.23603250826091032\n",
                        "scaled amount zk:  943516.0217285156\n",
                        "scaled amount onnx:  945747.0\n",
                        "diff:  -2230.978271484375\n",
                        "percent diff:  -0.23589588668897443\n",
                        "scaled amount zk:  1240868.6828613281\n",
                        "scaled amount onnx:  1243804.4\n",
                        "diff:  -2935.692138671875\n",
                        "percent diff:  -0.23602523014697346\n",
                        "scaled amount zk:  1249663.7878417969\n",
                        "scaled amount onnx:  1252619.1\n",
                        "diff:  -2955.337158203125\n",
                        "percent diff:  -0.2359326230312127\n",
                        "scaled amount zk:  942893.0969238281\n",
                        "scaled amount onnx:  945123.9\n",
                        "diff:  -2230.778076171875\n",
                        "percent diff:  -0.23603023213987426\n",
                        "scaled amount zk:  971520.4467773438\n",
                        "scaled amount onnx:  973818.9\n",
                        "diff:  -2298.42822265625\n",
                        "percent diff:  -0.2360221476151045\n",
                        "scaled amount zk:  1000071.1669921875\n",
                        "scaled amount onnx:  1002437.2\n",
                        "diff:  -2366.0205078125\n",
                        "percent diff:  -0.23602680919222183\n",
                        "scaled amount zk:  1141027.6794433594\n",
                        "scaled amount onnx:  1143725.9\n",
                        "diff:  -2698.195556640625\n",
                        "percent diff:  -0.2359127843147402\n",
                        "scaled amount zk:  1730974.5483398438\n",
                        "scaled amount onnx:  1735069.8\n",
                        "diff:  -4095.20166015625\n",
                        "percent diff:  -0.23602518919808554\n",
                        "scaled amount zk:  1359006.8664550781\n",
                        "scaled amount onnx:  1362222.1\n",
                        "diff:  -3215.258544921875\n",
                        "percent diff:  -0.23603041573868688\n",
                        "scaled amount zk:  1591562.98828125\n",
                        "scaled amount onnx:  1595328.4\n",
                        "diff:  -3765.38671875\n",
                        "percent diff:  -0.23602580996843361\n",
                        "scaled amount zk:  1419304.5043945312\n",
                        "scaled amount onnx:  1422662.4\n",
                        "diff:  -3357.87060546875\n",
                        "percent diff:  -0.2360272306680459\n",
                        "scaled amount zk:  1090869.873046875\n",
                        "scaled amount onnx:  1093450.8\n",
                        "diff:  -2580.876953125\n",
                        "percent diff:  -0.2360304707939521\n",
                        "scaled amount zk:  1201186.8896484375\n",
                        "scaled amount onnx:  1204028.6\n",
                        "diff:  -2841.7353515625\n",
                        "percent diff:  -0.23601891953046383\n",
                        "scaled amount zk:  1512209.2895507812\n",
                        "scaled amount onnx:  1515787.0\n",
                        "diff:  -3577.71044921875\n",
                        "percent diff:  -0.23602989399030008\n"
                    ]
                },
                {
                    "data": {
                        "application/vnd.plotly.v1+json": {
                            "config": {
                                "plotlyServerURL": "https://plot.ly"
                            },
                            "data": [
                                {
                                    "alignmentgroup": "True",
                                    "bingroup": "x",
                                    "hovertemplate": "percent error=%{x}<br>count=%{y}<extra></extra>",
                                    "legendgroup": "",
                                    "marker": {
                                        "color": "#636efa",
                                        "pattern": {
                                            "shape": ""
                                        }
                                    },
                                    "name": "",
                                    "offsetgroup": "",
                                    "orientation": "v",
                                    "showlegend": false,
                                    "type": "histogram",
                                    "x": [
                                        0,
                                        0,
                                        0,
                                        0,
                                        0,
                                        0,
                                        0,
                                        0,
                                        0,
                                        0,
                                        0,
                                        0,
                                        0.0023602720082154523,
                                        0,
                                        0,
                                        0,
                                        0,
                                        0,
                                        0,
                                        0,
                                        0,
                                        0,
                                        0,
                                        0,
                                        0,
                                        0,
                                        0,
                                        0,
                                        0,
                                        0,
                                        0,
                                        0,
                                        0,
                                        0,
                                        0,
                                        0,
                                        0,
                                        0,
                                        0,
                                        0,
                                        0,
                                        0,
                                        0,
                                        0,
                                        0,
                                        0,
                                        0,
                                        0,
                                        0,
                                        0,
                                        0,
                                        0,
                                        0,
                                        0,
                                        0,
                                        0,
                                        0,
                                        0,
                                        0,
                                        0,
                                        0,
                                        0,
                                        0,
                                        0,
                                        0,
                                        0,
                                        0,
                                        0,
                                        0,
                                        0,
                                        0,
                                        0,
                                        0,
                                        0,
                                        0,
                                        0,
                                        0.0023602356476916187,
                                        0,
                                        0,
                                        0,
                                        0,
                                        0,
                                        0,
                                        0,
                                        0.0023602163284779875,
                                        0,
                                        0,
                                        0,
                                        0,
                                        0,
                                        0,
                                        0,
                                        0,
                                        0,
                                        0,
                                        0,
                                        0,
                                        0,
                                        0,
                                        0,
                                        0,
                                        0,
                                        0,
                                        0,
                                        0,
                                        0,
                                        0,
                                        0,
                                        0,
                                        0,
                                        0,
                                        0,
                                        0,
                                        0,
                                        0,
                                        0,
                                        0,
                                        0,
                                        0,
                                        0,
                                        0,
                                        0,
                                        0,
                                        0.002360204768267132,
                                        0,
                                        0,
                                        0,
                                        0,
                                        0,
                                        0,
                                        0,
                                        0,
                                        0,
                                        0,
                                        0,
                                        0,
                                        0,
                                        0,
                                        0,
                                        0,
                                        0,
                                        0,
                                        0,
                                        0,
                                        0,
                                        0,
                                        0,
                                        0,
                                        0,
                                        0.002360283730523668,
                                        0,
                                        0,
                                        0,
                                        0,
                                        0,
                                        0,
                                        0,
                                        0,
                                        0,
                                        0,
                                        0.0023603061840496813,
                                        0,
                                        0,
                                        0,
                                        0,
                                        0,
                                        0,
                                        0,
                                        0,
                                        0,
                                        0,
                                        0,
                                        0,
                                        0,
                                        0,
                                        0,
                                        0,
                                        0,
                                        0,
                                        0,
                                        0,
                                        0,
                                        0,
                                        0,
                                        0,
                                        0,
                                        0,
                                        0,
                                        0,
                                        0,
                                        0,
                                        0,
                                        0,
                                        0,
                                        0,
                                        0,
                                        0.002360284822766592,
                                        0,
                                        0,
                                        0,
                                        0,
                                        0,
                                        0,
                                        0,
                                        0,
                                        0,
                                        0,
                                        0,
                                        0,
                                        0,
                                        0,
                                        0,
                                        0,
                                        0,
                                        0,
                                        0,
                                        0,
                                        0,
                                        0,
                                        0,
                                        0,
                                        0,
                                        0,
                                        0,
                                        0,
                                        0,
                                        0,
                                        0,
                                        0.0023602567824628404,
                                        0,
                                        0,
                                        0,
                                        0,
                                        0,
                                        0.0023591493006995443,
                                        0,
                                        0,
                                        0,
                                        0,
                                        0,
                                        0,
                                        0.002360325082609103,
                                        0,
                                        0,
                                        0,
                                        0,
                                        0,
                                        0,
                                        0,
                                        0,
                                        0,
                                        0,
                                        0,
                                        0,
                                        0,
                                        0,
                                        0,
                                        0,
                                        0,
                                        0,
                                        0,
                                        0,
                                        0,
                                        0,
                                        0,
                                        0,
                                        0,
                                        0,
                                        0,
                                        0,
                                        0,
                                        0,
                                        0,
                                        0,
                                        0,
                                        0,
                                        0,
                                        0,
                                        0,
                                        0,
                                        0,
                                        0,
                                        0,
                                        0,
                                        0,
                                        0,
                                        0.0023589588668897444,
                                        0,
                                        0,
                                        0,
                                        0,
                                        0,
                                        0,
                                        0,
                                        0,
                                        0,
                                        0,
                                        0,
                                        0,
                                        0,
                                        0,
                                        0,
                                        0,
                                        0,
                                        0,
                                        0,
                                        0,
                                        0,
                                        0,
                                        0,
                                        0,
                                        0,
                                        0,
                                        0,
                                        0,
                                        0,
                                        0,
                                        0,
                                        0,
                                        0,
                                        0,
                                        0,
                                        0,
                                        0,
                                        0.0023602523014697348,
                                        0,
                                        0,
                                        0,
                                        0,
                                        0,
                                        0,
                                        0,
                                        0,
                                        0,
                                        0,
                                        0,
                                        0,
                                        0,
                                        0,
                                        0,
                                        0,
                                        0,
                                        0,
                                        0.002359326230312127,
                                        0,
                                        0,
                                        0,
                                        0,
                                        0,
                                        0,
                                        0.0023603023213987426,
                                        0,
                                        0,
                                        0,
                                        0,
                                        0,
                                        0,
                                        0,
                                        0,
                                        0,
                                        0,
                                        0,
                                        0,
                                        0,
                                        0,
                                        0.002360221476151045,
                                        0,
                                        0,
                                        0,
                                        0,
                                        0,
                                        0,
                                        0,
                                        0,
                                        0,
                                        0,
                                        0,
                                        0,
                                        0,
                                        0,
                                        0,
                                        0,
                                        0,
                                        0,
                                        0,
                                        0,
                                        0,
                                        0.002360268091922218,
                                        0,
                                        0,
                                        0,
                                        0,
                                        0.002359127843147402,
                                        0,
                                        0,
                                        0,
                                        0,
                                        0,
                                        0,
                                        0,
                                        0,
                                        0,
                                        0,
                                        0,
                                        0,
                                        0,
                                        0,
                                        0,
                                        0,
                                        0,
                                        0,
                                        0,
                                        0,
                                        0.0023602518919808553,
                                        0,
                                        0,
                                        0,
                                        0,
                                        0,
                                        0,
                                        0,
                                        0,
                                        0,
                                        0,
                                        0,
                                        0,
                                        0,
                                        0,
                                        0.002360304157386869,
                                        0,
                                        0,
                                        0,
                                        0,
                                        0.002360258099684336,
                                        0,
                                        0,
                                        0,
                                        0,
                                        0,
                                        0,
                                        0,
                                        0,
                                        0,
                                        0,
                                        0.002360272306680459,
                                        0,
                                        0,
                                        0.002360304707939521,
                                        0,
                                        0,
                                        0,
                                        0,
                                        0,
                                        0,
                                        0,
                                        0.0023601891953046383,
                                        0,
                                        0,
                                        0,
                                        0,
                                        0,
                                        0,
                                        0,
                                        0,
                                        0,
                                        0,
                                        0,
                                        0,
                                        0,
                                        0.0023602989399030007,
                                        0,
                                        0,
                                        0,
                                        0,
                                        0,
                                        0,
                                        0,
                                        0,
                                        0,
                                        0,
                                        0,
                                        0,
                                        0,
                                        0,
                                        0,
                                        0,
                                        0,
                                        0,
                                        0,
                                        0,
                                        0,
                                        0,
                                        0,
                                        0,
                                        0,
                                        0,
                                        0,
                                        0,
                                        0,
                                        0
                                    ],
                                    "xaxis": "x",
                                    "yaxis": "y"
                                }
                            ],
                            "layout": {
                                "barmode": "relative",
                                "legend": {
                                    "tracegroupgap": 0
                                },
                                "template": {
                                    "data": {
                                        "bar": [
                                            {
                                                "error_x": {
                                                    "color": "#2a3f5f"
                                                },
                                                "error_y": {
                                                    "color": "#2a3f5f"
                                                },
                                                "marker": {
                                                    "line": {
                                                        "color": "#E5ECF6",
                                                        "width": 0.5
                                                    },
                                                    "pattern": {
                                                        "fillmode": "overlay",
                                                        "size": 10,
                                                        "solidity": 0.2
                                                    }
                                                },
                                                "type": "bar"
                                            }
                                        ],
                                        "barpolar": [
                                            {
                                                "marker": {
                                                    "line": {
                                                        "color": "#E5ECF6",
                                                        "width": 0.5
                                                    },
                                                    "pattern": {
                                                        "fillmode": "overlay",
                                                        "size": 10,
                                                        "solidity": 0.2
                                                    }
                                                },
                                                "type": "barpolar"
                                            }
                                        ],
                                        "carpet": [
                                            {
                                                "aaxis": {
                                                    "endlinecolor": "#2a3f5f",
                                                    "gridcolor": "white",
                                                    "linecolor": "white",
                                                    "minorgridcolor": "white",
                                                    "startlinecolor": "#2a3f5f"
                                                },
                                                "baxis": {
                                                    "endlinecolor": "#2a3f5f",
                                                    "gridcolor": "white",
                                                    "linecolor": "white",
                                                    "minorgridcolor": "white",
                                                    "startlinecolor": "#2a3f5f"
                                                },
                                                "type": "carpet"
                                            }
                                        ],
                                        "choropleth": [
                                            {
                                                "colorbar": {
                                                    "outlinewidth": 0,
                                                    "ticks": ""
                                                },
                                                "type": "choropleth"
                                            }
                                        ],
                                        "contour": [
                                            {
                                                "colorbar": {
                                                    "outlinewidth": 0,
                                                    "ticks": ""
                                                },
                                                "colorscale": [
                                                    [
                                                        0,
                                                        "#0d0887"
                                                    ],
                                                    [
                                                        0.1111111111111111,
                                                        "#46039f"
                                                    ],
                                                    [
                                                        0.2222222222222222,
                                                        "#7201a8"
                                                    ],
                                                    [
                                                        0.3333333333333333,
                                                        "#9c179e"
                                                    ],
                                                    [
                                                        0.4444444444444444,
                                                        "#bd3786"
                                                    ],
                                                    [
                                                        0.5555555555555556,
                                                        "#d8576b"
                                                    ],
                                                    [
                                                        0.6666666666666666,
                                                        "#ed7953"
                                                    ],
                                                    [
                                                        0.7777777777777778,
                                                        "#fb9f3a"
                                                    ],
                                                    [
                                                        0.8888888888888888,
                                                        "#fdca26"
                                                    ],
                                                    [
                                                        1,
                                                        "#f0f921"
                                                    ]
                                                ],
                                                "type": "contour"
                                            }
                                        ],
                                        "contourcarpet": [
                                            {
                                                "colorbar": {
                                                    "outlinewidth": 0,
                                                    "ticks": ""
                                                },
                                                "type": "contourcarpet"
                                            }
                                        ],
                                        "heatmap": [
                                            {
                                                "colorbar": {
                                                    "outlinewidth": 0,
                                                    "ticks": ""
                                                },
                                                "colorscale": [
                                                    [
                                                        0,
                                                        "#0d0887"
                                                    ],
                                                    [
                                                        0.1111111111111111,
                                                        "#46039f"
                                                    ],
                                                    [
                                                        0.2222222222222222,
                                                        "#7201a8"
                                                    ],
                                                    [
                                                        0.3333333333333333,
                                                        "#9c179e"
                                                    ],
                                                    [
                                                        0.4444444444444444,
                                                        "#bd3786"
                                                    ],
                                                    [
                                                        0.5555555555555556,
                                                        "#d8576b"
                                                    ],
                                                    [
                                                        0.6666666666666666,
                                                        "#ed7953"
                                                    ],
                                                    [
                                                        0.7777777777777778,
                                                        "#fb9f3a"
                                                    ],
                                                    [
                                                        0.8888888888888888,
                                                        "#fdca26"
                                                    ],
                                                    [
                                                        1,
                                                        "#f0f921"
                                                    ]
                                                ],
                                                "type": "heatmap"
                                            }
                                        ],
                                        "heatmapgl": [
                                            {
                                                "colorbar": {
                                                    "outlinewidth": 0,
                                                    "ticks": ""
                                                },
                                                "colorscale": [
                                                    [
                                                        0,
                                                        "#0d0887"
                                                    ],
                                                    [
                                                        0.1111111111111111,
                                                        "#46039f"
                                                    ],
                                                    [
                                                        0.2222222222222222,
                                                        "#7201a8"
                                                    ],
                                                    [
                                                        0.3333333333333333,
                                                        "#9c179e"
                                                    ],
                                                    [
                                                        0.4444444444444444,
                                                        "#bd3786"
                                                    ],
                                                    [
                                                        0.5555555555555556,
                                                        "#d8576b"
                                                    ],
                                                    [
                                                        0.6666666666666666,
                                                        "#ed7953"
                                                    ],
                                                    [
                                                        0.7777777777777778,
                                                        "#fb9f3a"
                                                    ],
                                                    [
                                                        0.8888888888888888,
                                                        "#fdca26"
                                                    ],
                                                    [
                                                        1,
                                                        "#f0f921"
                                                    ]
                                                ],
                                                "type": "heatmapgl"
                                            }
                                        ],
                                        "histogram": [
                                            {
                                                "marker": {
                                                    "pattern": {
                                                        "fillmode": "overlay",
                                                        "size": 10,
                                                        "solidity": 0.2
                                                    }
                                                },
                                                "type": "histogram"
                                            }
                                        ],
                                        "histogram2d": [
                                            {
                                                "colorbar": {
                                                    "outlinewidth": 0,
                                                    "ticks": ""
                                                },
                                                "colorscale": [
                                                    [
                                                        0,
                                                        "#0d0887"
                                                    ],
                                                    [
                                                        0.1111111111111111,
                                                        "#46039f"
                                                    ],
                                                    [
                                                        0.2222222222222222,
                                                        "#7201a8"
                                                    ],
                                                    [
                                                        0.3333333333333333,
                                                        "#9c179e"
                                                    ],
                                                    [
                                                        0.4444444444444444,
                                                        "#bd3786"
                                                    ],
                                                    [
                                                        0.5555555555555556,
                                                        "#d8576b"
                                                    ],
                                                    [
                                                        0.6666666666666666,
                                                        "#ed7953"
                                                    ],
                                                    [
                                                        0.7777777777777778,
                                                        "#fb9f3a"
                                                    ],
                                                    [
                                                        0.8888888888888888,
                                                        "#fdca26"
                                                    ],
                                                    [
                                                        1,
                                                        "#f0f921"
                                                    ]
                                                ],
                                                "type": "histogram2d"
                                            }
                                        ],
                                        "histogram2dcontour": [
                                            {
                                                "colorbar": {
                                                    "outlinewidth": 0,
                                                    "ticks": ""
                                                },
                                                "colorscale": [
                                                    [
                                                        0,
                                                        "#0d0887"
                                                    ],
                                                    [
                                                        0.1111111111111111,
                                                        "#46039f"
                                                    ],
                                                    [
                                                        0.2222222222222222,
                                                        "#7201a8"
                                                    ],
                                                    [
                                                        0.3333333333333333,
                                                        "#9c179e"
                                                    ],
                                                    [
                                                        0.4444444444444444,
                                                        "#bd3786"
                                                    ],
                                                    [
                                                        0.5555555555555556,
                                                        "#d8576b"
                                                    ],
                                                    [
                                                        0.6666666666666666,
                                                        "#ed7953"
                                                    ],
                                                    [
                                                        0.7777777777777778,
                                                        "#fb9f3a"
                                                    ],
                                                    [
                                                        0.8888888888888888,
                                                        "#fdca26"
                                                    ],
                                                    [
                                                        1,
                                                        "#f0f921"
                                                    ]
                                                ],
                                                "type": "histogram2dcontour"
                                            }
                                        ],
                                        "mesh3d": [
                                            {
                                                "colorbar": {
                                                    "outlinewidth": 0,
                                                    "ticks": ""
                                                },
                                                "type": "mesh3d"
                                            }
                                        ],
                                        "parcoords": [
                                            {
                                                "line": {
                                                    "colorbar": {
                                                        "outlinewidth": 0,
                                                        "ticks": ""
                                                    }
                                                },
                                                "type": "parcoords"
                                            }
                                        ],
                                        "pie": [
                                            {
                                                "automargin": true,
                                                "type": "pie"
                                            }
                                        ],
                                        "scatter": [
                                            {
                                                "fillpattern": {
                                                    "fillmode": "overlay",
                                                    "size": 10,
                                                    "solidity": 0.2
                                                },
                                                "type": "scatter"
                                            }
                                        ],
                                        "scatter3d": [
                                            {
                                                "line": {
                                                    "colorbar": {
                                                        "outlinewidth": 0,
                                                        "ticks": ""
                                                    }
                                                },
                                                "marker": {
                                                    "colorbar": {
                                                        "outlinewidth": 0,
                                                        "ticks": ""
                                                    }
                                                },
                                                "type": "scatter3d"
                                            }
                                        ],
                                        "scattercarpet": [
                                            {
                                                "marker": {
                                                    "colorbar": {
                                                        "outlinewidth": 0,
                                                        "ticks": ""
                                                    }
                                                },
                                                "type": "scattercarpet"
                                            }
                                        ],
                                        "scattergeo": [
                                            {
                                                "marker": {
                                                    "colorbar": {
                                                        "outlinewidth": 0,
                                                        "ticks": ""
                                                    }
                                                },
                                                "type": "scattergeo"
                                            }
                                        ],
                                        "scattergl": [
                                            {
                                                "marker": {
                                                    "colorbar": {
                                                        "outlinewidth": 0,
                                                        "ticks": ""
                                                    }
                                                },
                                                "type": "scattergl"
                                            }
                                        ],
                                        "scattermapbox": [
                                            {
                                                "marker": {
                                                    "colorbar": {
                                                        "outlinewidth": 0,
                                                        "ticks": ""
                                                    }
                                                },
                                                "type": "scattermapbox"
                                            }
                                        ],
                                        "scatterpolar": [
                                            {
                                                "marker": {
                                                    "colorbar": {
                                                        "outlinewidth": 0,
                                                        "ticks": ""
                                                    }
                                                },
                                                "type": "scatterpolar"
                                            }
                                        ],
                                        "scatterpolargl": [
                                            {
                                                "marker": {
                                                    "colorbar": {
                                                        "outlinewidth": 0,
                                                        "ticks": ""
                                                    }
                                                },
                                                "type": "scatterpolargl"
                                            }
                                        ],
                                        "scatterternary": [
                                            {
                                                "marker": {
                                                    "colorbar": {
                                                        "outlinewidth": 0,
                                                        "ticks": ""
                                                    }
                                                },
                                                "type": "scatterternary"
                                            }
                                        ],
                                        "surface": [
                                            {
                                                "colorbar": {
                                                    "outlinewidth": 0,
                                                    "ticks": ""
                                                },
                                                "colorscale": [
                                                    [
                                                        0,
                                                        "#0d0887"
                                                    ],
                                                    [
                                                        0.1111111111111111,
                                                        "#46039f"
                                                    ],
                                                    [
                                                        0.2222222222222222,
                                                        "#7201a8"
                                                    ],
                                                    [
                                                        0.3333333333333333,
                                                        "#9c179e"
                                                    ],
                                                    [
                                                        0.4444444444444444,
                                                        "#bd3786"
                                                    ],
                                                    [
                                                        0.5555555555555556,
                                                        "#d8576b"
                                                    ],
                                                    [
                                                        0.6666666666666666,
                                                        "#ed7953"
                                                    ],
                                                    [
                                                        0.7777777777777778,
                                                        "#fb9f3a"
                                                    ],
                                                    [
                                                        0.8888888888888888,
                                                        "#fdca26"
                                                    ],
                                                    [
                                                        1,
                                                        "#f0f921"
                                                    ]
                                                ],
                                                "type": "surface"
                                            }
                                        ],
                                        "table": [
                                            {
                                                "cells": {
                                                    "fill": {
                                                        "color": "#EBF0F8"
                                                    },
                                                    "line": {
                                                        "color": "white"
                                                    }
                                                },
                                                "header": {
                                                    "fill": {
                                                        "color": "#C8D4E3"
                                                    },
                                                    "line": {
                                                        "color": "white"
                                                    }
                                                },
                                                "type": "table"
                                            }
                                        ]
                                    },
                                    "layout": {
                                        "annotationdefaults": {
                                            "arrowcolor": "#2a3f5f",
                                            "arrowhead": 0,
                                            "arrowwidth": 1
                                        },
                                        "autotypenumbers": "strict",
                                        "coloraxis": {
                                            "colorbar": {
                                                "outlinewidth": 0,
                                                "ticks": ""
                                            }
                                        },
                                        "colorscale": {
                                            "diverging": [
                                                [
                                                    0,
                                                    "#8e0152"
                                                ],
                                                [
                                                    0.1,
                                                    "#c51b7d"
                                                ],
                                                [
                                                    0.2,
                                                    "#de77ae"
                                                ],
                                                [
                                                    0.3,
                                                    "#f1b6da"
                                                ],
                                                [
                                                    0.4,
                                                    "#fde0ef"
                                                ],
                                                [
                                                    0.5,
                                                    "#f7f7f7"
                                                ],
                                                [
                                                    0.6,
                                                    "#e6f5d0"
                                                ],
                                                [
                                                    0.7,
                                                    "#b8e186"
                                                ],
                                                [
                                                    0.8,
                                                    "#7fbc41"
                                                ],
                                                [
                                                    0.9,
                                                    "#4d9221"
                                                ],
                                                [
                                                    1,
                                                    "#276419"
                                                ]
                                            ],
                                            "sequential": [
                                                [
                                                    0,
                                                    "#0d0887"
                                                ],
                                                [
                                                    0.1111111111111111,
                                                    "#46039f"
                                                ],
                                                [
                                                    0.2222222222222222,
                                                    "#7201a8"
                                                ],
                                                [
                                                    0.3333333333333333,
                                                    "#9c179e"
                                                ],
                                                [
                                                    0.4444444444444444,
                                                    "#bd3786"
                                                ],
                                                [
                                                    0.5555555555555556,
                                                    "#d8576b"
                                                ],
                                                [
                                                    0.6666666666666666,
                                                    "#ed7953"
                                                ],
                                                [
                                                    0.7777777777777778,
                                                    "#fb9f3a"
                                                ],
                                                [
                                                    0.8888888888888888,
                                                    "#fdca26"
                                                ],
                                                [
                                                    1,
                                                    "#f0f921"
                                                ]
                                            ],
                                            "sequentialminus": [
                                                [
                                                    0,
                                                    "#0d0887"
                                                ],
                                                [
                                                    0.1111111111111111,
                                                    "#46039f"
                                                ],
                                                [
                                                    0.2222222222222222,
                                                    "#7201a8"
                                                ],
                                                [
                                                    0.3333333333333333,
                                                    "#9c179e"
                                                ],
                                                [
                                                    0.4444444444444444,
                                                    "#bd3786"
                                                ],
                                                [
                                                    0.5555555555555556,
                                                    "#d8576b"
                                                ],
                                                [
                                                    0.6666666666666666,
                                                    "#ed7953"
                                                ],
                                                [
                                                    0.7777777777777778,
                                                    "#fb9f3a"
                                                ],
                                                [
                                                    0.8888888888888888,
                                                    "#fdca26"
                                                ],
                                                [
                                                    1,
                                                    "#f0f921"
                                                ]
                                            ]
                                        },
                                        "colorway": [
                                            "#636efa",
                                            "#EF553B",
                                            "#00cc96",
                                            "#ab63fa",
                                            "#FFA15A",
                                            "#19d3f3",
                                            "#FF6692",
                                            "#B6E880",
                                            "#FF97FF",
                                            "#FECB52"
                                        ],
                                        "font": {
                                            "color": "#2a3f5f"
                                        },
                                        "geo": {
                                            "bgcolor": "white",
                                            "lakecolor": "white",
                                            "landcolor": "#E5ECF6",
                                            "showlakes": true,
                                            "showland": true,
                                            "subunitcolor": "white"
                                        },
                                        "hoverlabel": {
                                            "align": "left"
                                        },
                                        "hovermode": "closest",
                                        "mapbox": {
                                            "style": "light"
                                        },
                                        "paper_bgcolor": "white",
                                        "plot_bgcolor": "#E5ECF6",
                                        "polar": {
                                            "angularaxis": {
                                                "gridcolor": "white",
                                                "linecolor": "white",
                                                "ticks": ""
                                            },
                                            "bgcolor": "#E5ECF6",
                                            "radialaxis": {
                                                "gridcolor": "white",
                                                "linecolor": "white",
                                                "ticks": ""
                                            }
                                        },
                                        "scene": {
                                            "xaxis": {
                                                "backgroundcolor": "#E5ECF6",
                                                "gridcolor": "white",
                                                "gridwidth": 2,
                                                "linecolor": "white",
                                                "showbackground": true,
                                                "ticks": "",
                                                "zerolinecolor": "white"
                                            },
                                            "yaxis": {
                                                "backgroundcolor": "#E5ECF6",
                                                "gridcolor": "white",
                                                "gridwidth": 2,
                                                "linecolor": "white",
                                                "showbackground": true,
                                                "ticks": "",
                                                "zerolinecolor": "white"
                                            },
                                            "zaxis": {
                                                "backgroundcolor": "#E5ECF6",
                                                "gridcolor": "white",
                                                "gridwidth": 2,
                                                "linecolor": "white",
                                                "showbackground": true,
                                                "ticks": "",
                                                "zerolinecolor": "white"
                                            }
                                        },
                                        "shapedefaults": {
                                            "line": {
                                                "color": "#2a3f5f"
                                            }
                                        },
                                        "ternary": {
                                            "aaxis": {
                                                "gridcolor": "white",
                                                "linecolor": "white",
                                                "ticks": ""
                                            },
                                            "baxis": {
                                                "gridcolor": "white",
                                                "linecolor": "white",
                                                "ticks": ""
                                            },
                                            "bgcolor": "#E5ECF6",
                                            "caxis": {
                                                "gridcolor": "white",
                                                "linecolor": "white",
                                                "ticks": ""
                                            }
                                        },
                                        "title": {
                                            "x": 0.05
                                        },
                                        "xaxis": {
                                            "automargin": true,
                                            "gridcolor": "white",
                                            "linecolor": "white",
                                            "ticks": "",
                                            "title": {
                                                "standoff": 15
                                            },
                                            "zerolinecolor": "white",
                                            "zerolinewidth": 2
                                        },
                                        "yaxis": {
                                            "automargin": true,
                                            "gridcolor": "white",
                                            "linecolor": "white",
                                            "ticks": "",
                                            "title": {
                                                "standoff": 15
                                            },
                                            "zerolinecolor": "white",
                                            "zerolinewidth": 2
                                        }
                                    }
                                },
                                "title": {
                                    "text": "Distribution of percent error"
                                },
                                "xaxis": {
                                    "anchor": "y",
                                    "domain": [
                                        0,
                                        1
                                    ],
                                    "title": {
                                        "text": "percent error"
                                    }
                                },
                                "yaxis": {
                                    "anchor": "x",
                                    "domain": [
                                        0,
                                        1
                                    ],
                                    "title": {
                                        "text": "count"
                                    }
                                }
                            }
                        }
                    },
                    "metadata": {},
                    "output_type": "display_data"
                }
            ],
            "source": [
                "\n",
                "import plotly.express as px\n",
                "import pandas as pd\n",
                "\n",
                "import matplotlib.pyplot as plt\n",
                "    # get the ezkl output\n",
                "ezkl_output = get_ezkl_output(witness_path, settings_path)\n",
                "    # get the onnx output\n",
                "onnx_output = get_onnx_output(model_path, data_path)\n",
                "    # compare the outputs\n",
                "l1_difference = compare_outputs(ezkl_output, onnx_output)\n",
                "\n",
                "df = pd.DataFrame(l1_difference, columns=[\"percent error\"])\n",
                "\n",
                "\n",
                "# Create a histogram\n",
                "fig = px.histogram(df, x=\"percent error\",\n",
                "                  title=\"Distribution of percent error\")\n",
                "fig.show()"
            ]
        }
    ],
    "metadata": {
        "kernelspec": {
            "display_name": "analytics-internal-nXLXwD2Z",
            "language": "python",
            "name": "python3"
        },
        "language_info": {
            "codemirror_mode": {
                "name": "ipython",
                "version": 3
            },
            "file_extension": ".py",
            "mimetype": "text/x-python",
            "name": "python",
            "nbconvert_exporter": "python",
            "pygments_lexer": "ipython3",
            "version": "3.9.15"
        }
    },
    "nbformat": 4,
    "nbformat_minor": 2
}
